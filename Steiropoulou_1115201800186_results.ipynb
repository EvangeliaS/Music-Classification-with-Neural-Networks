device:  cpu
Optimizer:  <class 'torch.optim.adadelta.Adadelta'>
Epoch:  1
Training finished.
Epoch: 1
Validation Loss:  137.63213062286377 %
Validation F1:  10.0 %
Validation Accuracy:  25.0 %
Validation Confusion Matrix:
[[  0   0 200   0]
 [  0   0 200   0]
 [  0   0 200   0]
 [  0   0 200   0]]
Epoch:  2
Training finished.
Epoch: 2
Validation Loss:  136.51452112197876 %
Validation F1:  28.782708555491755 %
Validation Accuracy:  40.125 %
Validation Confusion Matrix:
[[  0  26 174   0]
 [  0 124  76   0]
 [  0   3 197   0]
 [  0  12 188   0]]
Epoch:  3
Training finished.
Epoch: 3
Validation Loss:  135.32086420059204 %
Validation F1:  21.89355491756476 %
Validation Accuracy:  32.5 %
Validation Confusion Matrix:
[[  0   8 192   0]
 [  0  60 140   0]
 [  0   0 200   0]
 [  0   1 199   0]]
Epoch:  4
Training finished.
Epoch: 4
Validation Loss:  132.46083807945251 %
Validation F1:  26.909671296695713 %
Validation Accuracy:  37.625 %
Validation Confusion Matrix:
[[  0  19 181   0]
 [  0 104  96   0]
 [  0   3 197   0]
 [  0   9 191   0]]
Epoch:  5
Training finished.
Epoch: 5
Validation Loss:  129.21577763557434 %
Validation F1:  28.730412745064466 %
Validation Accuracy:  40.625 %
Validation Confusion Matrix:
[[  0  39 161   0]
 [  0 136  64   0]
 [  0  11 189   0]
 [  0  17 183   0]]
Epoch:  6
Training finished.
Epoch: 6
Validation Loss:  124.26336121559143 %
Validation F1:  28.64344098854974 %
Validation Accuracy:  42.0 %
Validation Confusion Matrix:
[[  0  80 120   0]
 [  0 159  41   0]
 [  0  23 177   0]
 [  0  31 169   0]]
Epoch:  7
Training finished.
Epoch: 7
Validation Loss:  120.25778675079346 %
Validation F1:  37.82679392011311 %
Validation Accuracy:  45.5 %
Validation Confusion Matrix:
[[ 48  41 111   0]
 [ 22 140  38   0]
 [ 12  12 176   0]
 [ 18  17 165   0]]
Epoch:  8
Training finished.
Epoch: 8
Validation Loss:  117.2136538028717 %
Validation F1:  40.29640617067731 %
Validation Accuracy:  47.0 %
Validation Confusion Matrix:
[[ 57  47  90   6]
 [ 20 149  31   0]
 [ 16  17 165   2]
 [ 30  19 146   5]]
Epoch:  9
Training finished.
Epoch: 9
Validation Loss:  114.72633051872253 %
Validation F1:  39.115005586091165 %
Validation Accuracy:  45.5 %
Validation Confusion Matrix:
[[ 74  38  88   0]
 [ 42 133  25   0]
 [ 35   8 157   0]
 [ 44  14 142   0]]
Epoch:  10
Training finished.
Epoch: 10
Validation Loss:  112.43741989135742 %
Validation F1:  39.73138577757889 %
Validation Accuracy:  47.0 %
Validation Confusion Matrix:
[[ 52  54  87   7]
 [ 19 152  29   0]
 [ 13  17 168   2]
 [ 29  19 148   4]]
Epoch:  11
Training finished.
Epoch: 11
Validation Loss:  112.2084755897522 %
Validation F1:  42.34742162810113 %
Validation Accuracy:  47.5 %
Validation Confusion Matrix:
[[ 75  81  33  11]
 [ 22 172   6   0]
 [ 39  34 118   9]
 [ 59  29  97  15]]
Epoch:  12
Training finished.
Epoch: 12
Validation Loss:  108.98877680301666 %
Validation F1:  37.59958653165138 %
Validation Accuracy:  46.25 %
Validation Confusion Matrix:
[[ 39  52 109   0]
 [ 14 156  30   0]
 [ 10  14 175   1]
 [ 17  17 166   0]]
Epoch:  13
Training finished.
Epoch: 13
Validation Loss:  107.41850972175597 %
Validation F1:  44.720134378383946 %
Validation Accuracy:  50.375 %
Validation Confusion Matrix:
[[124  39  33   4]
 [ 47 149   3   1]
 [ 64   8 126   2]
 [ 80  15 101   4]]
Epoch:  14
Training finished.
Epoch: 14
Validation Loss:  111.508908867836 %
Validation F1:  31.467623081557722 %
Validation Accuracy:  42.5 %
Validation Confusion Matrix:
[[  5  35 160   0]
 [  9 140  51   0]
 [  2   3 195   0]
 [  2  10 188   0]]
Epoch:  15
Training finished.
Epoch: 15
Validation Loss:  103.40676379203796 %
Validation F1:  47.679512538903815 %
Validation Accuracy:  51.87500000000001 %
Validation Confusion Matrix:
[[ 78  65  39  18]
 [ 29 166   3   2]
 [ 30  17 145   8]
 [ 45  20 109  26]]
Epoch:  16
Training finished.
Epoch: 16
Validation Loss:  103.00784111022949 %
Validation F1:  55.95133356138494 %
Validation Accuracy:  55.75 %
Validation Confusion Matrix:
[[ 99  31  24  46]
 [ 54 141   2   3]
 [ 34   4  89  73]
 [ 38  10  35 117]]
Epoch:  17
Training finished.
Epoch: 17
Validation Loss:  101.08378159999847 %
Validation F1:  45.40321198409434 %
Validation Accuracy:  50.375 %
Validation Confusion Matrix:
[[ 42  40  92  26]
 [ 37 151  11   1]
 [ 10   5 181   4]
 [ 19  12 140  29]]
Epoch:  18
Training finished.
Epoch: 18
Validation Loss:  98.43470776081085 %
Validation F1:  42.658115405888395 %
Validation Accuracy:  50.5 %
Validation Confusion Matrix:
[[ 58  54  85   3]
 [ 28 165   6   1]
 [ 13   9 177   1]
 [ 29  17 150   4]]
Epoch:  19
Training finished.
Epoch: 19
Validation Loss:  97.27595937252045 %
Validation F1:  56.3910596689624 %
Validation Accuracy:  56.875 %
Validation Confusion Matrix:
[[ 73  35  41  51]
 [ 52 144   2   2]
 [ 20   2 147  31]
 [ 32   4  73  91]]
Epoch:  20
Training finished.
Epoch: 20
Validation Loss:  94.53832268714905 %
Validation F1:  52.99476380413402 %
Validation Accuracy:  55.75 %
Validation Confusion Matrix:
[[ 93  42  45  20]
 [ 46 150   3   1]
 [ 20   7 164   9]
 [ 49   6 106  39]]
Epoch:  21
Training finished.
Epoch: 21
Validation Loss:  93.24281060695648 %
Validation F1:  53.12563642025854 %
Validation Accuracy:  56.75 %
Validation Confusion Matrix:
[[ 89  51  42  18]
 [ 31 165   3   1]
 [ 20   8 165   7]
 [ 46  11 108  35]]
Epoch:  22
Training finished.
Epoch: 22
Validation Loss:  92.23840153217316 %
Validation F1:  53.777396926097296 %
Validation Accuracy:  56.625 %
Validation Confusion Matrix:
[[ 77  44  55  24]
 [ 37 159   3   1]
 [ 16   5 171   8]
 [ 42   6 106  46]]
Epoch:  23
Training finished.
Epoch: 23
Validation Loss:  91.4740035533905 %
Validation F1:  59.577446943032754 %
Validation Accuracy:  59.25 %
Validation Confusion Matrix:
[[102  37  21  40]
 [ 52 144   2   2]
 [ 29   2 131  38]
 [ 55   3  45  97]]
Epoch:  24
Training finished.
Epoch: 24
Validation Loss:  91.67420327663422 %
Validation F1:  55.0427939660993 %
Validation Accuracy:  56.99999999999999 %
Validation Confusion Matrix:
[[ 57  37  60  46]
 [ 42 150   5   3]
 [ 11   1 174  14]
 [ 30   3  92  75]]
Epoch:  25
Training finished.
Epoch: 25
Validation Loss:  89.35311603546143 %
Validation F1:  60.88192994657445 %
Validation Accuracy:  61.5 %
Validation Confusion Matrix:
[[ 92  36  37  35]
 [ 47 149   3   1]
 [ 19   1 164  16]
 [ 45   3  65  87]]
Epoch:  26
Training finished.
Epoch: 26
Validation Loss:  93.2272800207138 %
Validation F1:  48.009218524107354 %
Validation Accuracy:  53.37499999999999 %
Validation Confusion Matrix:
[[ 32  42 102  24]
 [ 20 167   7   6]
 [  3   3 187   7]
 [ 20   7 132  41]]
Epoch:  27
Training finished.
Epoch: 27
Validation Loss:  88.00784313678741 %
Validation F1:  61.557972310346145 %
Validation Accuracy:  61.625 %
Validation Confusion Matrix:
[[111  45  14  30]
 [ 30 167   1   2]
 [ 37   5 118  40]
 [ 64   7  32  97]]
Epoch:  28
Training finished.
Epoch: 28
Validation Loss:  87.41768896579742 %
Validation F1:  61.478903843880836 %
Validation Accuracy:  61.0 %
Validation Confusion Matrix:
[[100  34  19  47]
 [ 46 150   2   2]
 [ 24   2 119  55]
 [ 53   1  27 119]]
Epoch:  29
Training finished.
Epoch: 29
Validation Loss:  85.57418584823608 %
Validation F1:  63.28554518131948 %
Validation Accuracy:  63.87500000000001 %
Validation Confusion Matrix:
[[110  44  24  22]
 [ 29 167   2   2]
 [ 29   2 149  20]
 [ 62   7  46  85]]
Epoch:  30
Training finished.
Epoch: 30
Validation Loss:  85.15117311477661 %
Validation F1:  63.323845473903226 %
Validation Accuracy:  63.375 %
Validation Confusion Matrix:
[[ 91  36  23  50]
 [ 34 161   2   3]
 [ 20   2 131  47]
 [ 42   4  30 124]]
Best Model Performance on Test Set:
Test Loss:  87.4639682558387 %
Test F1:  64.27978667266765 %
Test Accuracy:  63.95348837209303 %
Test Confusion Matrix:
[[144  33  32 115]
 [ 28 262   4   3]
 [ 29  11 254  62]
 [ 94  21  64 220]]

Best F1 macro average score:  0.6427978667266765 % achieved after  30  epochs.
Optimizer:  <class 'torch.optim.adagrad.Adagrad'>
Epoch:  1
Training finished.
Epoch: 1
Validation Loss:  91.19363051652908 %
Validation F1:  58.327926092229774 %
Validation Accuracy:  61.12499999999999 %
Validation Confusion Matrix:
[[ 44  78  25  53]
 [ 10 180   3   7]
 [  9  13 141  37]
 [ 28  12  36 124]]
Epoch:  2
Training finished.
Epoch: 2
Validation Loss:  82.91381341218948 %
Validation F1:  64.55216623543836 %
Validation Accuracy:  64.125 %
Validation Confusion Matrix:
[[106  15  47  32]
 [ 72 124   4   0]
 [ 18   0 164  18]
 [ 40   0  41 119]]
Epoch:  3
Training finished.
Epoch: 3
Validation Loss:  73.61137872934341 %
Validation F1:  68.66678356257118 %
Validation Accuracy:  70.125 %
Validation Confusion Matrix:
[[ 74  34  44  48]
 [ 13 180   3   4]
 [  9   2 161  28]
 [ 21   3  30 146]]
Epoch:  4
Training finished.
Epoch: 4
Validation Loss:  68.81123507022858 %
Validation F1:  71.65351921327085 %
Validation Accuracy:  71.375 %
Validation Confusion Matrix:
[[117  15  25  43]
 [ 38 158   0   4]
 [ 24   0 144  32]
 [ 26   2  20 152]]
Epoch:  5
Training finished.
Epoch: 5
Validation Loss:  66.9629085958004 %
Validation F1:  71.29016368216668 %
Validation Accuracy:  72.0 %
Validation Confusion Matrix:
[[100  38  36  26]
 [ 10 189   0   1]
 [ 26   1 157  16]
 [ 38   9  23 130]]
Epoch:  6
Training finished.
Epoch: 6
Validation Loss:  70.4201307296753 %
Validation F1:  71.66216756352387 %
Validation Accuracy:  71.625 %
Validation Confusion Matrix:
[[100  12  21  67]
 [ 18 157   0  25]
 [ 13   0 140  47]
 [  9   3  12 176]]
Epoch:  7
Training finished.
Epoch: 7
Validation Loss:  61.567361921072006 %
Validation F1:  75.68290597823339 %
Validation Accuracy:  75.875 %
Validation Confusion Matrix:
[[123  23  28  26]
 [ 11 187   0   2]
 [ 29   0 154  17]
 [ 34   8  15 143]]
Epoch:  8
Training finished.
Epoch: 8
Validation Loss:  70.79125112295151 %
Validation F1:  72.08313642149847 %
Validation Accuracy:  72.0 %
Validation Confusion Matrix:
[[106  13  15  66]
 [ 15 165   0  20]
 [ 18   0 129  53]
 [  9   4  11 176]]
Epoch:  9
Training finished.
Epoch: 9
Validation Loss:  64.74213415384293 %
Validation F1:  75.36360379509979 %
Validation Accuracy:  75.125 %
Validation Confusion Matrix:
[[129  11  29  31]
 [ 27 161   0  12]
 [ 25   0 155  20]
 [ 27   3  14 156]]
Epoch:  10
Training finished.
Epoch: 10
Validation Loss:  65.84996259212494 %
Validation F1:  75.93859059275879 %
Validation Accuracy:  75.75 %
Validation Confusion Matrix:
[[132  11  31  26]
 [ 24 170   0   6]
 [ 24   0 155  21]
 [ 30   4  17 149]]
Epoch:  11
Training finished.
Epoch: 11
Validation Loss:  65.4111656844616 %
Validation F1:  77.42014195218303 %
Validation Accuracy:  77.625 %
Validation Confusion Matrix:
[[122  17  27  34]
 [ 12 182   0   6]
 [ 22   0 156  22]
 [ 19   5  15 161]]
Epoch:  12
Training finished.
Epoch: 12
Validation Loss:  66.4944030046463 %
Validation F1:  77.32312958658045 %
Validation Accuracy:  77.375 %
Validation Confusion Matrix:
[[131  16  30  23]
 [ 13 184   0   3]
 [ 26   0 153  21]
 [ 30   6  13 151]]
Epoch:  13
Training finished.
Epoch: 13
Validation Loss:  72.75055761635303 %
Validation F1:  75.85346225740093 %
Validation Accuracy:  76.25 %
Validation Confusion Matrix:
[[109  16  34  41]
 [ 11 177   0  12]
 [ 18   0 154  28]
 [ 11   5  14 170]]
Epoch:  14
Training finished.
Epoch: 14
Validation Loss:  83.03038489818573 %
Validation F1:  75.04600731812312 %
Validation Accuracy:  75.25 %
Validation Confusion Matrix:
[[116  21  18  45]
 [ 10 178   0  12]
 [ 27   0 139  34]
 [ 15   5  11 169]]
Epoch:  15
Training finished.
Epoch: 15
Validation Loss:  81.43435475230217 %
Validation F1:  75.64216521469453 %
Validation Accuracy:  75.875 %
Validation Confusion Matrix:
[[119  21  24  36]
 [  9 179   0  12]
 [ 24   0 150  26]
 [ 16   9  16 159]]
Epoch:  16
Training finished.
Epoch: 16
Validation Loss:  86.59484550356865 %
Validation F1:  76.91865983409627 %
Validation Accuracy:  77.0 %
Validation Confusion Matrix:
[[135  19  20  26]
 [ 11 186   0   3]
 [ 28   0 146  26]
 [ 29   8  14 149]]
Epoch:  17
Training finished.
Epoch: 17
Validation Loss:  91.2565630376339 %
Validation F1:  75.78649823966214 %
Validation Accuracy:  75.75 %
Validation Confusion Matrix:
[[130  16  21  33]
 [ 12 174   0  14]
 [ 28   0 147  25]
 [ 22   7  16 155]]
Epoch:  18
Training finished.
Epoch: 18
Validation Loss:  96.2858085334301 %
Validation F1:  74.63713638522361 %
Validation Accuracy:  75.0 %
Validation Confusion Matrix:
[[111  18  36  35]
 [ 11 175   1  13]
 [ 15   0 164  21]
 [ 16   9  25 150]]
Epoch:  19
Training finished.
Epoch: 19
Validation Loss:  101.09310312569141 %
Validation F1:  75.47903219258718 %
Validation Accuracy:  75.625 %
Validation Confusion Matrix:
[[119  17  25  39]
 [ 12 175   0  13]
 [ 22   0 150  28]
 [ 15   8  16 161]]
Epoch:  20
Training finished.
Epoch: 20
Validation Loss:  103.41242505609989 %
Validation F1:  75.66142718041452 %
Validation Accuracy:  75.625 %
Validation Confusion Matrix:
[[129  14  26  31]
 [ 13 173   0  14]
 [ 22   0 153  25]
 [ 26   8  16 150]]
Epoch:  21
Training finished.
Epoch: 21
Validation Loss:  107.84553122520447 %
Validation F1:  75.48177475691323 %
Validation Accuracy:  75.375 %
Validation Confusion Matrix:
[[131  15  20  34]
 [ 13 169   0  18]
 [ 29   0 147  24]
 [ 21   7  16 156]]
Epoch:  22
Training finished.
Epoch: 22
Validation Loss:  112.67712450586261 %
Validation F1:  75.4607917544018 %
Validation Accuracy:  75.5 %
Validation Confusion Matrix:
[[122  16  24  38]
 [ 13 170   0  17]
 [ 23   0 151  26]
 [ 16   7  16 161]]
Epoch:  23
Training finished.
Epoch: 23
Validation Loss:  113.26823583245277 %
Validation F1:  75.33955019545267 %
Validation Accuracy:  75.375 %
Validation Confusion Matrix:
[[126  18  23  33]
 [ 12 173   0  15]
 [ 27   0 149  24]
 [ 20   9  16 155]]
Epoch:  24
Training finished.
Epoch: 24
Validation Loss:  117.30930154770614 %
Validation F1:  75.71440974883242 %
Validation Accuracy:  75.625 %
Validation Confusion Matrix:
[[131  14  23  32]
 [ 14 170   0  16]
 [ 27   0 149  24]
 [ 22   7  16 155]]
Epoch:  25
Training finished.
Epoch: 25
Validation Loss:  120.4024586379528 %
Validation F1:  75.83398407941688 %
Validation Accuracy:  75.875 %
Validation Confusion Matrix:
[[123  15  25  37]
 [ 13 171   0  16]
 [ 21   0 153  26]
 [ 16   7  17 160]]
Epoch:  26
Training finished.
Epoch: 26
Validation Loss:  120.79794377088547 %
Validation F1:  75.97517420898612 %
Validation Accuracy:  76.0 %
Validation Confusion Matrix:
[[129  17  23  31]
 [ 12 174   0  14]
 [ 26   0 150  24]
 [ 20   9  16 155]]
Epoch:  27
Training finished.
Epoch: 27
Validation Loss:  122.56577017903328 %
Validation F1:  75.25031518919307 %
Validation Accuracy:  75.125 %
Validation Confusion Matrix:
[[132  14  23  31]
 [ 15 170   0  15]
 [ 27   0 149  24]
 [ 27   8  15 150]]
Epoch:  28
Training finished.
Epoch: 28
Validation Loss:  125.76681111007927 %
Validation F1:  75.91898662681945 %
Validation Accuracy:  75.875 %
Validation Confusion Matrix:
[[132  17  20  31]
 [ 14 172   0  14]
 [ 29   0 147  24]
 [ 21   9  14 156]]
Epoch:  29
Training finished.
Epoch: 29
Validation Loss:  127.30951961874962 %
Validation F1:  76.18100746386895 %
Validation Accuracy:  76.125 %
Validation Confusion Matrix:
[[130  14  23  33]
 [ 14 170   0  16]
 [ 24   0 151  25]
 [ 19   7  16 158]]
Epoch:  30
Training finished.
Epoch: 30
Validation Loss:  128.02980688214302 %
Validation F1:  75.90263067354145 %
Validation Accuracy:  75.875 %
Validation Confusion Matrix:
[[129  16  23  32]
 [ 15 171   0  14]
 [ 25   0 151  24]
 [ 21   8  15 156]]
Best Model Performance on Test Set:
Test Loss:  72.4733371594359 %
Test F1:  74.32860264399407 %
Test Accuracy:  73.90988372093024 %
Test Confusion Matrix:
[[186  12  34  92]
 [ 13 274   3   7]
 [ 31   4 290  31]
 [ 76  14  42 267]]

Best F1 macro average score:  0.7432860264399408 % achieved after  11  epochs.
Optimizer:  <class 'torch.optim.adam.Adam'>
Epoch:  1
Training finished.
Epoch: 1
Validation Loss:  138.51708126068115 %
Validation F1:  10.0 %
Validation Accuracy:  25.0 %
Validation Confusion Matrix:
[[  0 200   0   0]
 [  0 200   0   0]
 [  0 200   0   0]
 [  0 200   0   0]]
Epoch:  2
Training finished.
Epoch: 2
Validation Loss:  137.9157464504242 %
Validation F1:  10.0 %
Validation Accuracy:  25.0 %
Validation Confusion Matrix:
[[200   0   0   0]
 [200   0   0   0]
 [200   0   0   0]
 [200   0   0   0]]
Epoch:  3
Training finished.
Epoch: 3
Validation Loss:  121.34418046474458 %
Validation F1:  38.516213446447075 %
Validation Accuracy:  44.75 %
Validation Confusion Matrix:
[[ 92  31   0  77]
 [ 75 104   0  21]
 [ 94  32   0  74]
 [ 36   2   0 162]]
Epoch:  4
Training finished.
Epoch: 4
Validation Loss:  116.81544983386993 %
Validation F1:  47.42735117439872 %
Validation Accuracy:  49.75 %
Validation Confusion Matrix:
[[ 29   9  57 105]
 [ 71  79  26  24]
 [  9   2 127  62]
 [ 11   0  26 163]]
Epoch:  5
Training finished.
Epoch: 5
Validation Loss:  99.25201892852783 %
Validation F1:  57.30385158896244 %
Validation Accuracy:  58.5 %
Validation Confusion Matrix:
[[ 56  15  45  84]
 [ 58 102   7  33]
 [ 10   0 153  37]
 [ 11   1  31 157]]
Epoch:  6
Training finished.
Epoch: 6
Validation Loss:  89.18569105863571 %
Validation F1:  61.77054462305986 %
Validation Accuracy:  62.74999999999999 %
Validation Confusion Matrix:
[[ 63  44  22  71]
 [ 39 154   1   6]
 [ 18   5 137  40]
 [ 21   7  24 148]]
Epoch:  7
Training finished.
Epoch: 7
Validation Loss:  87.99686777591705 %
Validation F1:  62.115092248189406 %
Validation Accuracy:  63.375 %
Validation Confusion Matrix:
[[ 67  64  25  44]
 [ 28 171   1   0]
 [ 16   9 150  25]
 [ 39   8  34 119]]
Epoch:  8
Training finished.
Epoch: 8
Validation Loss:  79.00038278102875 %
Validation F1:  64.19830921371457 %
Validation Accuracy:  66.5 %
Validation Confusion Matrix:
[[ 50  43  15  92]
 [ 13 184   0   3]
 [ 10   0 139  51]
 [ 12   9  20 159]]
Epoch:  9
Training finished.
Epoch: 9
Validation Loss:  82.72023224830627 %
Validation F1:  67.01039912810613 %
Validation Accuracy:  67.0 %
Validation Confusion Matrix:
[[112  63  10  15]
 [  6 194   0   0]
 [ 70   4 119   7]
 [ 65  15   9 111]]
Epoch:  10
Training finished.
Epoch: 10
Validation Loss:  80.52409559488297 %
Validation F1:  67.35307838697283 %
Validation Accuracy:  66.75 %
Validation Confusion Matrix:
[[108  23  21  48]
 [ 49 145   5   1]
 [ 28   0 146  26]
 [ 46   2  17 135]]
Epoch:  11
Training finished.
Epoch: 11
Validation Loss:  73.33090871572495 %
Validation F1:  70.46446726446727 %
Validation Accuracy:  71.375 %
Validation Confusion Matrix:
[[ 78  30  13  79]
 [ 21 173   1   5]
 [ 11   1 149  39]
 [ 14   3  12 171]]
Epoch:  12
Training finished.
Epoch: 12
Validation Loss:  78.29185259342194 %
Validation F1:  68.25494348686347 %
Validation Accuracy:  67.875 %
Validation Confusion Matrix:
[[ 96  11  15  78]
 [ 55 135   0  10]
 [ 17   0 143  40]
 [ 20   1  10 169]]
Epoch:  13
Training finished.
Epoch: 13
Validation Loss:  75.7568371295929 %
Validation F1:  68.48609891651287 %
Validation Accuracy:  68.375 %
Validation Confusion Matrix:
[[103  15  39  43]
 [ 55 144   1   0]
 [ 15   0 174  11]
 [ 37   0  37 126]]
Epoch:  14
Training finished.
Epoch: 14
Validation Loss:  105.49741101264954 %
Validation F1:  56.70679572790248 %
Validation Accuracy:  56.99999999999999 %
Validation Confusion Matrix:
[[ 64  14   3 119]
 [ 42 114   1  43]
 [ 10   0  88 102]
 [  6   0   4 190]]
Epoch:  15
Training finished.
Epoch: 15
Validation Loss:  71.4337802529335 %
Validation F1:  71.35504706882159 %
Validation Accuracy:  70.875 %
Validation Confusion Matrix:
[[138  19  19  24]
 [ 36 148   0  16]
 [ 29   0 163   8]
 [ 60   1  21 118]]
Epoch:  16
Training finished.
Epoch: 16
Validation Loss:  88.93038231134415 %
Validation F1:  66.67068048708586 %
Validation Accuracy:  67.125 %
Validation Confusion Matrix:
[[ 69  10  15 106]
 [ 36 134   1  29]
 [ 10   0 149  41]
 [  8   1   6 185]]
Epoch:  17
Training finished.
Epoch: 17
Validation Loss:  73.66817778348923 %
Validation F1:  70.13691315263675 %
Validation Accuracy:  71.0 %
Validation Confusion Matrix:
[[ 79  34  16  71]
 [ 14 174   2  10]
 [ 16   0 154  30]
 [ 24   3  12 161]]
Epoch:  18
Training finished.
Epoch: 18
Validation Loss:  77.7337377667427 %
Validation F1:  69.10629419423245 %
Validation Accuracy:  69.375 %
Validation Confusion Matrix:
[[ 98  25  58  19]
 [ 42 157   1   0]
 [ 13   0 182   5]
 [ 47   5  30 118]]
Epoch:  19
Training finished.
Epoch: 19
Validation Loss:  74.84076035022736 %
Validation F1:  71.20595300605088 %
Validation Accuracy:  71.125 %
Validation Confusion Matrix:
[[103  19  14  64]
 [ 38 139   1  22]
 [ 17   0 154  29]
 [ 18   1   8 173]]
Epoch:  20
Training finished.
Epoch: 20
Validation Loss:  73.14758557081223 %
Validation F1:  70.64215510192385 %
Validation Accuracy:  70.75 %
Validation Confusion Matrix:
[[101  20  39  40]
 [ 46 149   0   5]
 [ 12   0 175  13]
 [ 36   3  20 141]]
Epoch:  21
Training finished.
Epoch: 21
Validation Loss:  71.71576750278473 %
Validation F1:  73.6037251528539 %
Validation Accuracy:  73.375 %
Validation Confusion Matrix:
[[132  23  23  22]
 [ 33 166   0   1]
 [ 20   0 167  13]
 [ 57   5  16 122]]
Epoch:  22
Training finished.
Epoch: 22
Validation Loss:  84.24490767717361 %
Validation F1:  69.05162634934827 %
Validation Accuracy:  69.125 %
Validation Confusion Matrix:
[[107  38  17  38]
 [ 22 177   0   1]
 [ 21   2 143  34]
 [ 52  12  10 126]]
Epoch:  23
Training finished.
Epoch: 23
Validation Loss:  74.07785779237747 %
Validation F1:  71.9448974246064 %
Validation Accuracy:  72.375 %
Validation Confusion Matrix:
[[104  39  18  39]
 [ 13 185   0   2]
 [ 26   3 150  21]
 [ 36  13  11 140]]
Epoch:  24
Training finished.
Epoch: 24
Validation Loss:  77.48513525724411 %
Validation F1:  72.93033625526746 %
Validation Accuracy:  73.625 %
Validation Confusion Matrix:
[[ 96  36  23  45]
 [  9 178   0  13]
 [ 22   4 161  13]
 [ 26   3  17 154]]
Epoch:  25
Training finished.
Epoch: 25
Validation Loss:  88.2025226354599 %
Validation F1:  66.5243275233492 %
Validation Accuracy:  66.375 %
Validation Confusion Matrix:
[[101  16  70  13]
 [ 54 142   2   2]
 [ 10   0 177  13]
 [ 54   1  34 111]]
Epoch:  26
Training finished.
Epoch: 26
Validation Loss:  82.720594227314 %
Validation F1:  71.41873778930469 %
Validation Accuracy:  71.375 %
Validation Confusion Matrix:
[[115  15  38  32]
 [ 47 148   0   5]
 [ 14   0 178   8]
 [ 36   3  31 130]]
Epoch:  27
Training finished.
Epoch: 27
Validation Loss:  83.02926138043404 %
Validation F1:  71.58368297821882 %
Validation Accuracy:  71.875 %
Validation Confusion Matrix:
[[101  26  18  55]
 [ 21 167   2  10]
 [ 25   1 147  27]
 [ 17   9  14 160]]
Epoch:  28
Training finished.
Epoch: 28
Validation Loss:  75.37696686387062 %
Validation F1:  73.42427035686289 %
Validation Accuracy:  74.125 %
Validation Confusion Matrix:
[[102  32  28  38]
 [ 13 180   0   7]
 [ 14   3 171  12]
 [ 29   5  26 140]]
Epoch:  29
Training finished.
Epoch: 29
Validation Loss:  87.89798682928085 %
Validation F1:  70.8178310522612 %
Validation Accuracy:  71.25 %
Validation Confusion Matrix:
[[ 90  27  21  62]
 [ 22 163   0  15]
 [ 17   2 154  27]
 [ 23   2  12 163]]
Epoch:  30
Training finished.
Epoch: 30
Validation Loss:  73.89167454838753 %
Validation F1:  73.25291305437865 %
Validation Accuracy:  73.375 %
Validation Confusion Matrix:
[[113  19  29  39]
 [ 28 163   2   7]
 [ 17   0 168  15]
 [ 28   5  24 143]]
Best Model Performance on Test Set:
Test Loss:  80.00079893214671 %
Test F1:  70.89884931177252 %
Test Accuracy:  70.27616279069767 %
Test Confusion Matrix:
[[226  24  32  42]
 [ 23 270   1   3]
 [ 57   5 280  14]
 [145  17  46 191]]

Best F1 macro average score:  0.7089884931177253 % achieved after  21  epochs.
Optimizer:  <class 'torch.optim.adamw.AdamW'>
Epoch:  1
Training finished.
Epoch: 1
Validation Loss:  138.85769534111023 %
Validation F1:  10.0 %
Validation Accuracy:  25.0 %
Validation Confusion Matrix:
[[200   0   0   0]
 [200   0   0   0]
 [200   0   0   0]
 [200   0   0   0]]
Epoch:  2
Training finished.
Epoch: 2
Validation Loss:  138.6989164352417 %
Validation F1:  10.0 %
Validation Accuracy:  25.0 %
Validation Confusion Matrix:
[[200   0   0   0]
 [200   0   0   0]
 [200   0   0   0]
 [200   0   0   0]]
Epoch:  3
Training finished.
Epoch: 3
Validation Loss:  138.67769122123718 %
Validation F1:  10.0 %
Validation Accuracy:  25.0 %
Validation Confusion Matrix:
[[  0 200   0   0]
 [  0 200   0   0]
 [  0 200   0   0]
 [  0 200   0   0]]
Epoch:  4
Training finished.
Epoch: 4
Validation Loss:  138.64303040504456 %
Validation F1:  10.0 %
Validation Accuracy:  25.0 %
Validation Confusion Matrix:
[[  0   0 200   0]
 [  0   0 200   0]
 [  0   0 200   0]
 [  0   0 200   0]]
Epoch:  5
Training finished.
Epoch: 5
Validation Loss:  138.6401824951172 %
Validation F1:  10.0 %
Validation Accuracy:  25.0 %
Validation Confusion Matrix:
[[200   0   0   0]
 [200   0   0   0]
 [200   0   0   0]
 [200   0   0   0]]
Epoch:  6
Training finished.
Epoch: 6
Validation Loss:  138.64438605308533 %
Validation F1:  10.0 %
Validation Accuracy:  25.0 %
Validation Confusion Matrix:
[[  0 200   0   0]
 [  0 200   0   0]
 [  0 200   0   0]
 [  0 200   0   0]]
Epoch:  7
Training finished.
Epoch: 7
Validation Loss:  138.75791263580322 %
Validation F1:  10.0 %
Validation Accuracy:  25.0 %
Validation Confusion Matrix:
[[  0   0 200   0]
 [  0   0 200   0]
 [  0   0 200   0]
 [  0   0 200   0]]
Epoch:  8
Training finished.
Epoch: 8
Validation Loss:  138.65587615966797 %
Validation F1:  10.0 %
Validation Accuracy:  25.0 %
Validation Confusion Matrix:
[[  0   0 200   0]
 [  0   0 200   0]
 [  0   0 200   0]
 [  0   0 200   0]]
Epoch:  9
Training finished.
Epoch: 9
Validation Loss:  138.6501989364624 %
Validation F1:  10.0 %
Validation Accuracy:  25.0 %
Validation Confusion Matrix:
[[  0   0   0 200]
 [  0   0   0 200]
 [  0   0   0 200]
 [  0   0   0 200]]
Epoch:  10
Training finished.
Epoch: 10
Validation Loss:  138.70876741409302 %
Validation F1:  10.0 %
Validation Accuracy:  25.0 %
Validation Confusion Matrix:
[[  0   0   0 200]
 [  0   0   0 200]
 [  0   0   0 200]
 [  0   0   0 200]]
Epoch:  11
Training finished.
Epoch: 11
Validation Loss:  138.6503484249115 %
Validation F1:  10.0 %
Validation Accuracy:  25.0 %
Validation Confusion Matrix:
[[  0   0   0 200]
 [  0   0   0 200]
 [  0   0   0 200]
 [  0   0   0 200]]
Epoch:  12
Training finished.
Epoch: 12
Validation Loss:  138.63045072555542 %
Validation F1:  10.0 %
Validation Accuracy:  25.0 %
Validation Confusion Matrix:
[[200   0   0   0]
 [200   0   0   0]
 [200   0   0   0]
 [200   0   0   0]]
Epoch:  13
Training finished.
Epoch: 13
Validation Loss:  138.64371371269226 %
Validation F1:  10.0 %
Validation Accuracy:  25.0 %
Validation Confusion Matrix:
[[  0   0   0 200]
 [  0   0   0 200]
 [  0   0   0 200]
 [  0   0   0 200]]
Epoch:  14
Training finished.
Epoch: 14
Validation Loss:  138.64031672477722 %
Validation F1:  10.0 %
Validation Accuracy:  25.0 %
Validation Confusion Matrix:
[[  0   0   0 200]
 [  0   0   0 200]
 [  0   0   0 200]
 [  0   0   0 200]]
Epoch:  15
Training finished.
Epoch: 15
Validation Loss:  138.64174556732178 %
Validation F1:  10.0 %
Validation Accuracy:  25.0 %
Validation Confusion Matrix:
[[  0 200   0   0]
 [  0 200   0   0]
 [  0 200   0   0]
 [  0 200   0   0]]
Epoch:  16
Training finished.
Epoch: 16
Validation Loss:  138.63124346733093 %
Validation F1:  10.0 %
Validation Accuracy:  25.0 %
Validation Confusion Matrix:
[[  0 200   0   0]
 [  0 200   0   0]
 [  0 200   0   0]
 [  0 200   0   0]]
Epoch:  17
Training finished.
Epoch: 17
Validation Loss:  138.63161301612854 %
Validation F1:  10.0 %
Validation Accuracy:  25.0 %
Validation Confusion Matrix:
[[  0 200   0   0]
 [  0 200   0   0]
 [  0 200   0   0]
 [  0 200   0   0]]
Epoch:  18
Training finished.
Epoch: 18
Validation Loss:  138.63559579849243 %
Validation F1:  10.0 %
Validation Accuracy:  25.0 %
Validation Confusion Matrix:
[[  0 200   0   0]
 [  0 200   0   0]
 [  0 200   0   0]
 [  0 200   0   0]]
Epoch:  19
Training finished.
Epoch: 19
Validation Loss:  138.63481378555298 %
Validation F1:  10.0 %
Validation Accuracy:  25.0 %
Validation Confusion Matrix:
[[  0   0 200   0]
 [  0   0 200   0]
 [  0   0 200   0]
 [  0   0 200   0]]
Epoch:  20
Training finished.
Epoch: 20
Validation Loss:  138.68519282341003 %
Validation F1:  10.0 %
Validation Accuracy:  25.0 %
Validation Confusion Matrix:
[[200   0   0   0]
 [200   0   0   0]
 [200   0   0   0]
 [200   0   0   0]]
Epoch:  21
Training finished.
Epoch: 21
Validation Loss:  138.63360357284546 %
Validation F1:  10.0 %
Validation Accuracy:  25.0 %
Validation Confusion Matrix:
[[  0 200   0   0]
 [  0 200   0   0]
 [  0 200   0   0]
 [  0 200   0   0]]
Epoch:  22
Training finished.
Epoch: 22
Validation Loss:  138.63091373443604 %
Validation F1:  10.0 %
Validation Accuracy:  25.0 %
Validation Confusion Matrix:
[[  0 200   0   0]
 [  0 200   0   0]
 [  0 200   0   0]
 [  0 200   0   0]]
Epoch:  23
Training finished.
Epoch: 23
Validation Loss:  138.6320743560791 %
Validation F1:  10.0 %
Validation Accuracy:  25.0 %
Validation Confusion Matrix:
[[  0 200   0   0]
 [  0 200   0   0]
 [  0 200   0   0]
 [  0 200   0   0]]
Epoch:  24
Training finished.
Epoch: 24
Validation Loss:  138.6346254348755 %
Validation F1:  10.0 %
Validation Accuracy:  25.0 %
Validation Confusion Matrix:
[[200   0   0   0]
 [200   0   0   0]
 [200   0   0   0]
 [200   0   0   0]]
Epoch:  25
Training finished.
Epoch: 25
Validation Loss:  138.6323947906494 %
Validation F1:  10.0 %
Validation Accuracy:  25.0 %
Validation Confusion Matrix:
[[200   0   0   0]
 [200   0   0   0]
 [200   0   0   0]
 [200   0   0   0]]
Epoch:  26
Training finished.
Epoch: 26
Validation Loss:  138.6717174053192 %
Validation F1:  10.0 %
Validation Accuracy:  25.0 %
Validation Confusion Matrix:
[[200   0   0   0]
 [200   0   0   0]
 [200   0   0   0]
 [200   0   0   0]]
Epoch:  27
Training finished.
Epoch: 27
Validation Loss:  138.63552403450012 %
Validation F1:  10.0 %
Validation Accuracy:  25.0 %
Validation Confusion Matrix:
[[200   0   0   0]
 [200   0   0   0]
 [200   0   0   0]
 [200   0   0   0]]
Epoch:  28
Training finished.
Epoch: 28
Validation Loss:  138.63201642036438 %
Validation F1:  10.0 %
Validation Accuracy:  25.0 %
Validation Confusion Matrix:
[[  0   0   0 200]
 [  0   0   0 200]
 [  0   0   0 200]
 [  0   0   0 200]]
Epoch:  29
Training finished.
Epoch: 29
Validation Loss:  138.63506245613098 %
Validation F1:  10.0 %
Validation Accuracy:  25.0 %
Validation Confusion Matrix:
[[200   0   0   0]
 [200   0   0   0]
 [200   0   0   0]
 [200   0   0   0]]
Epoch:  30
Training finished.
Epoch: 30
Validation Loss:  138.64022707939148 %
Validation F1:  10.0 %
Validation Accuracy:  25.0 %
Validation Confusion Matrix:
[[  0   0 200   0]
 [  0   0 200   0]
 [  0   0 200   0]
 [  0   0 200   0]]
Best Model Performance on Test Set:
Test Loss:  138.51119265999904 %
Test F1:  9.529411764705882 %
Test Accuracy:  23.546511627906977 %
Test Confusion Matrix:
[[324   0   0   0]
 [297   0   0   0]
 [356   0   0   0]
 [399   0   0   0]]

Best F1 macro average score:  0.09529411764705882 % achieved after  1  epochs.
Optimizer:  <class 'torch.optim.adamax.Adamax'>
Epoch:  1
Training finished.
Epoch: 1
Validation Loss:  84.5099133849144 %
Validation F1:  64.07961445311139 %
Validation Accuracy:  65.375 %
Validation Confusion Matrix:
[[ 74  51  30  45]
 [ 14 185   1   0]
 [ 21   3 145  31]
 [ 40  10  31 119]]
Epoch:  2
Training finished.
Epoch: 2
Validation Loss:  73.41465359926224 %
Validation F1:  69.3382887255687 %
Validation Accuracy:  69.5 %
Validation Confusion Matrix:
[[ 92  16  20  72]
 [ 34 161   1   4]
 [ 10   1 133  56]
 [ 16   5   9 170]]
Epoch:  3
Training finished.
Epoch: 3
Validation Loss:  63.87928771972656 %
Validation F1:  75.24935801876862 %
Validation Accuracy:  75.375 %
Validation Confusion Matrix:
[[123  20  37  20]
 [ 13 181   1   5]
 [ 24   0 167   9]
 [ 43   3  22 132]]
Epoch:  4
Training finished.
Epoch: 4
Validation Loss:  88.64995729923248 %
Validation F1:  63.93831816198485 %
Validation Accuracy:  68.875 %
Validation Confusion Matrix:
[[ 31  46  38  85]
 [  0 193   0   7]
 [  3   1 140  56]
 [  1   6   6 187]]
Epoch:  5
Training finished.
Epoch: 5
Validation Loss:  69.42539966106415 %
Validation F1:  72.01661522821594 %
Validation Accuracy:  73.875 %
Validation Confusion Matrix:
[[ 74  38  38  50]
 [  2 187   0  11]
 [ 10   1 169  20]
 [ 14   9  16 161]]
Epoch:  6
Training finished.
Epoch: 6
Validation Loss:  76.47310626506805 %
Validation F1:  75.72765017282266 %
Validation Accuracy:  75.875 %
Validation Confusion Matrix:
[[126  15  42  17]
 [ 20 162   1  17]
 [ 15   1 181   3]
 [ 24   4  34 138]]
Epoch:  7
Training finished.
Epoch: 7
Validation Loss:  93.98079806566238 %
Validation F1:  71.17790195410787 %
Validation Accuracy:  72.125 %
Validation Confusion Matrix:
[[ 84  32  16  68]
 [  5 187   0   8]
 [ 17   2 144  37]
 [ 18  13   7 162]]
Epoch:  8
Training finished.
Epoch: 8
Validation Loss:  87.70300224423409 %
Validation F1:  76.29659299844444 %
Validation Accuracy:  76.5 %
Validation Confusion Matrix:
[[130  21  35  14]
 [ 14 183   0   3]
 [ 22   1 171   6]
 [ 41   7  24 128]]
Epoch:  9
Training finished.
Epoch: 9
Validation Loss:  110.73972773551941 %
Validation F1:  71.18804889148429 %
Validation Accuracy:  71.25 %
Validation Confusion Matrix:
[[112   7  47  34]
 [ 40 135   3  22]
 [ 14   0 178   8]
 [ 25   2  28 145]]
Epoch:  10
Training finished.
Epoch: 10
Validation Loss:  123.38809337466957 %
Validation F1:  73.17587997849795 %
Validation Accuracy:  73.75 %
Validation Confusion Matrix:
[[ 99  22  35  44]
 [ 16 174   0  10]
 [ 13   1 167  19]
 [ 23   4  23 150]]
Epoch:  11
Training finished.
Epoch: 11
Validation Loss:  145.09322822093964 %
Validation F1:  70.06767851033054 %
Validation Accuracy:  70.625 %
Validation Confusion Matrix:
[[ 88  32  14  66]
 [ 10 178   0  12]
 [ 21   4 141  34]
 [ 26   6  10 158]]
Epoch:  12
Training finished.
Epoch: 12
Validation Loss:  111.33811762928963 %
Validation F1:  72.91957450917384 %
Validation Accuracy:  73.625 %
Validation Confusion Matrix:
[[ 97  25  35  43]
 [ 13 179   1   7]
 [ 13   1 154  32]
 [ 15   8  18 159]]
Epoch:  13
Training finished.
Epoch: 13
Validation Loss:  147.8001607954502 %
Validation F1:  74.19149886526114 %
Validation Accuracy:  74.25 %
Validation Confusion Matrix:
[[122  21  24  33]
 [ 14 177   0   9]
 [ 29   1 155  15]
 [ 33   5  22 140]]
Epoch:  14
Training finished.
Epoch: 14
Validation Loss:  163.81074154376984 %
Validation F1:  71.07822631115606 %
Validation Accuracy:  71.25 %
Validation Confusion Matrix:
[[ 98  15  30  57]
 [ 24 161   0  15]
 [ 15   1 161  23]
 [ 27   4  19 150]]
Epoch:  15
Training finished.
Epoch: 15
Validation Loss:  189.35634838417172 %
Validation F1:  72.48845287484687 %
Validation Accuracy:  72.875 %
Validation Confusion Matrix:
[[110  21  46  23]
 [ 27 170   0   3]
 [ 15   1 180   4]
 [ 36   5  36 123]]
Epoch:  16
Training finished.
Epoch: 16
Validation Loss:  151.5419324040413 %
Validation F1:  71.8991734763255 %
Validation Accuracy:  71.75 %
Validation Confusion Matrix:
[[115  21  12  52]
 [ 17 175   0   8]
 [ 28   1 139  32]
 [ 35   7  13 145]]
Epoch:  17
Training finished.
Epoch: 17
Validation Loss:  199.2529083788395 %
Validation F1:  70.85956890074479 %
Validation Accuracy:  71.25 %
Validation Confusion Matrix:
[[ 88  20  19  73]
 [ 15 169   0  16]
 [ 15   1 147  37]
 [ 18   3  13 166]]
Epoch:  18
Training finished.
Epoch: 18
Validation Loss:  182.63737507909536 %
Validation F1:  73.96120160119706 %
Validation Accuracy:  73.875 %
Validation Confusion Matrix:
[[120  17  28  35]
 [ 23 170   0   7]
 [ 24   2 157  17]
 [ 35   2  19 144]]
Epoch:  19
Training finished.
Epoch: 19
Validation Loss:  178.50405025482178 %
Validation F1:  75.32616555480415 %
Validation Accuracy:  75.5 %
Validation Confusion Matrix:
[[123  26  19  32]
 [  9 186   0   5]
 [ 27   2 150  21]
 [ 35   5  15 145]]
Epoch:  20
Training finished.
Epoch: 20
Validation Loss:  179.3089770078659 %
Validation F1:  70.41481449667467 %
Validation Accuracy:  71.125 %
Validation Confusion Matrix:
[[ 84  15  37  64]
 [ 18 156   1  25]
 [ 10   2 162  26]
 [ 14   4  15 167]]
Epoch:  21
Training finished.
Epoch: 21
Validation Loss:  159.0565395951271 %
Validation F1:  74.33637646019135 %
Validation Accuracy:  74.375 %
Validation Confusion Matrix:
[[116  13  37  34]
 [ 20 171   0   9]
 [ 22   1 165  12]
 [ 34   4  19 143]]
Epoch:  22
Training finished.
Epoch: 22
Validation Loss:  167.9604466110468 %
Validation F1:  71.24081810110873 %
Validation Accuracy:  71.75 %
Validation Confusion Matrix:
[[ 95  18  41  46]
 [ 15 167   1  17]
 [ 17   1 168  14]
 [ 27   4  25 144]]
Epoch:  23
Training finished.
Epoch: 23
Validation Loss:  171.185958892107 %
Validation F1:  74.22482716269488 %
Validation Accuracy:  75.0 %
Validation Confusion Matrix:
[[109  35  27  29]
 [  3 196   0   1]
 [ 16   2 156  26]
 [ 27  17  17 139]]
Epoch:  24
Training finished.
Epoch: 24
Validation Loss:  233.9162533581257 %
Validation F1:  68.72267711957018 %
Validation Accuracy:  69.0 %
Validation Confusion Matrix:
[[ 96   8  40  56]
 [ 34 128   8  30]
 [  9   0 164  27]
 [ 15   1  20 164]]
Epoch:  25
Training finished.
Epoch: 25
Validation Loss:  199.48717147111893 %
Validation F1:  72.19800520666251 %
Validation Accuracy:  72.5 %
Validation Confusion Matrix:
[[103  22  28  47]
 [ 21 169   1   9]
 [ 14   1 160  25]
 [ 27   6  19 148]]
Epoch:  26
Training finished.
Epoch: 26
Validation Loss:  185.21401697397232 %
Validation F1:  73.23509808583863 %
Validation Accuracy:  73.375 %
Validation Confusion Matrix:
[[113  23  25  39]
 [ 17 171   0  12]
 [ 21   1 159  19]
 [ 31   5  20 144]]
Epoch:  27
Training finished.
Epoch: 27
Validation Loss:  189.67502188682556 %
Validation F1:  73.55265672648027 %
Validation Accuracy:  73.75 %
Validation Confusion Matrix:
[[112  25  22  41]
 [ 15 173   0  12]
 [ 20   1 158  21]
 [ 28   5  20 147]]
Epoch:  28
Training finished.
Epoch: 28
Validation Loss:  192.89668377488852 %
Validation F1:  73.29018882104137 %
Validation Accuracy:  73.5 %
Validation Confusion Matrix:
[[111  25  22  42]
 [ 14 174   0  12]
 [ 20   1 156  23]
 [ 28   6  19 147]]
Epoch:  29
Training finished.
Epoch: 29
Validation Loss:  195.5710524469614 %
Validation F1:  73.19048130835807 %
Validation Accuracy:  73.375 %
Validation Confusion Matrix:
[[112  25  22  41]
 [ 14 174   0  12]
 [ 21   1 154  24]
 [ 28   6  19 147]]
Epoch:  30
Training finished.
Epoch: 30
Validation Loss:  198.1437347009778 %
Validation F1:  73.30061007731038 %
Validation Accuracy:  73.5 %
Validation Confusion Matrix:
[[112  25  22  41]
 [ 13 175   0  12]
 [ 21   1 154  24]
 [ 28   6  19 147]]
Best Model Performance on Test Set:
Test Loss:  93.78499911896397 %
Test F1:  73.63675265109994 %
Test Accuracy:  73.54651162790698 %
Test Confusion Matrix:
[[220  36  25  43]
 [ 13 280   3   1]
 [ 37   4 306   9]
 [120  19  54 206]]

Best F1 macro average score:  0.7363675265109993 % achieved after  8  epochs.
Optimizer:  <class 'torch.optim.asgd.ASGD'>
Epoch:  1
Training finished.
Epoch: 1
Validation Loss:  133.5590386390686 %
Validation F1:  30.691579631042863 %
Validation Accuracy:  40.625 %
Validation Confusion Matrix:
[[  2   0 132  66]
 [ 32  17  68  83]
 [  0   0 188  12]
 [  0   0  82 118]]
Epoch:  2
Training finished.
Epoch: 2
Validation Loss:  127.57342982292175 %
Validation F1:  21.960122605468257 %
Validation Accuracy:  33.75 %
Validation Confusion Matrix:
[[  0 186  14   0]
 [  0 199   1   0]
 [  0 129  71   0]
 [  0 143  57   0]]
Epoch:  3
Training finished.
Epoch: 3
Validation Loss:  114.09340488910675 %
Validation F1:  33.51244640794936 %
Validation Accuracy:  44.375 %
Validation Confusion Matrix:
[[  0 148  49   3]
 [  0 198   1   1]
 [  1  67 132   0]
 [  0  71 104  25]]
Epoch:  4
Training finished.
Epoch: 4
Validation Loss:  126.94065582752228 %
Validation F1:  29.857823734523137 %
Validation Accuracy:  41.125 %
Validation Confusion Matrix:
[[  2 158   1  39]
 [  0 198   0   2]
 [  0  87  13 100]
 [  1  83   0 116]]
Epoch:  5
Training finished.
Epoch: 5
Validation Loss:  104.46156609058379 %
Validation F1:  53.44576172022941 %
Validation Accuracy:  56.25 %
Validation Confusion Matrix:
[[ 44 102  19  35]
 [  2 196   0   2]
 [ 24  32 106  38]
 [ 42  29  25 104]]
Epoch:  6
Training finished.
Epoch: 6
Validation Loss:  96.16364932060242 %
Validation F1:  55.76201722616994 %
Validation Accuracy:  56.625 %
Validation Confusion Matrix:
[[ 64  38  26  72]
 [ 44 145   0  11]
 [ 23   4  86  87]
 [ 27   3  12 158]]
Epoch:  7
Training finished.
Epoch: 7
Validation Loss:  91.69168376922607 %
Validation F1:  60.70180767331143 %
Validation Accuracy:  61.25000000000001 %
Validation Confusion Matrix:
[[106  52  18  24]
 [ 16 182   0   2]
 [ 50   8 107  35]
 [ 67  12  26  95]]
Epoch:  8
Training finished.
Epoch: 8
Validation Loss:  87.1222437620163 %
Validation F1:  59.199194188411106 %
Validation Accuracy:  61.0 %
Validation Confusion Matrix:
[[ 50  39  42  69]
 [ 20 167   2  11]
 [ 17   2 128  53]
 [ 18   5  34 143]]
Epoch:  9
Training finished.
Epoch: 9
Validation Loss:  86.62362730503082 %
Validation F1:  62.583128704575294 %
Validation Accuracy:  63.375 %
Validation Confusion Matrix:
[[ 89  44  15  52]
 [ 12 183   0   5]
 [ 40   2  98  60]
 [ 36  10  17 137]]
Epoch:  10
Training finished.
Epoch: 10
Validation Loss:  109.52677607536316 %
Validation F1:  51.41190443357564 %
Validation Accuracy:  53.625 %
Validation Confusion Matrix:
[[ 65 106   4  25]
 [  1 199   0   0]
 [ 53  34  81  32]
 [ 47  50  19  84]]
Epoch:  11
Training finished.
Epoch: 11
Validation Loss:  79.91408979892731 %
Validation F1:  67.19965599977594 %
Validation Accuracy:  67.625 %
Validation Confusion Matrix:
[[119  38  29  14]
 [ 13 184   2   1]
 [ 41   2 139  18]
 [ 60   7  34  99]]
Epoch:  12
Training finished.
Epoch: 12
Validation Loss:  83.56663262844086 %
Validation F1:  63.06791393719497 %
Validation Accuracy:  63.625 %
Validation Confusion Matrix:
[[ 73  17  68  42]
 [ 48 139   4   9]
 [  9   0 166  25]
 [ 20   1  48 131]]
Epoch:  13
Training finished.
Epoch: 13
Validation Loss:  78.44045847654343 %
Validation F1:  65.76861757160295 %
Validation Accuracy:  66.75 %
Validation Confusion Matrix:
[[ 75  31  32  62]
 [  6 176   3  15]
 [ 17   0 129  54]
 [ 16   4  26 154]]
Epoch:  14
Training finished.
Epoch: 14
Validation Loss:  77.54405587911606 %
Validation F1:  68.79332439172863 %
Validation Accuracy:  68.25 %
Validation Confusion Matrix:
[[142  18  33   7]
 [ 49 146   3   2]
 [ 34   0 150  16]
 [ 55   0  37 108]]
Epoch:  15
Training finished.
Epoch: 15
Validation Loss:  85.45536267757416 %
Validation F1:  63.681549489019815 %
Validation Accuracy:  64.25 %
Validation Confusion Matrix:
[[ 73  14  85  28]
 [ 43 138   7  12]
 [  6   0 174  20]
 [ 18   0  53 129]]
Epoch:  16
Training finished.
Epoch: 16
Validation Loss:  77.33044236898422 %
Validation F1:  69.27724903673817 %
Validation Accuracy:  68.625 %
Validation Confusion Matrix:
[[139  15  34  12]
 [ 48 140   3   9]
 [ 35   0 146  19]
 [ 46   0  30 124]]
Epoch:  17
Training finished.
Epoch: 17
Validation Loss:  76.31008052825928 %
Validation F1:  69.22246144878343 %
Validation Accuracy:  69.875 %
Validation Confusion Matrix:
[[ 94  35  12  59]
 [  9 186   0   5]
 [ 20   1 123  56]
 [ 18   6  20 156]]
Epoch:  18
Training finished.
Epoch: 18
Validation Loss:  79.10161155462265 %
Validation F1:  66.66829635158331 %
Validation Accuracy:  66.875 %
Validation Confusion Matrix:
[[ 83  16  24  77]
 [ 28 148   2  22]
 [ 11   0 137  52]
 [ 10   3  20 167]]
Epoch:  19
Training finished.
Epoch: 19
Validation Loss:  69.71981394290924 %
Validation F1:  72.38571372666132 %
Validation Accuracy:  73.25 %
Validation Confusion Matrix:
[[ 97  27  46  30]
 [  6 190   2   2]
 [ 14   0 162  24]
 [ 22   7  34 137]]
Epoch:  20
Training finished.
Epoch: 20
Validation Loss:  73.11310616135597 %
Validation F1:  71.32747169505052 %
Validation Accuracy:  71.75 %
Validation Confusion Matrix:
[[106  25  12  57]
 [  8 189   0   3]
 [ 24   1 121  54]
 [ 20   5  17 158]]
Epoch:  21
Training finished.
Epoch: 21
Validation Loss:  67.04612803459167 %
Validation F1:  76.16037084275946 %
Validation Accuracy:  76.125 %
Validation Confusion Matrix:
[[145  19  19  17]
 [ 15 183   1   1]
 [ 32   0 148  20]
 [ 39   4  24 133]]
Epoch:  22
Training finished.
Epoch: 22
Validation Loss:  82.58658808469772 %
Validation F1:  65.43988918718016 %
Validation Accuracy:  66.625 %
Validation Confusion Matrix:
[[ 75  30   9  86]
 [  2 185   0  13]
 [ 14   1  97  88]
 [  8   6  10 176]]
Epoch:  23
Training finished.
Epoch: 23
Validation Loss:  68.30911231040955 %
Validation F1:  73.03596110346054 %
Validation Accuracy:  73.5 %
Validation Confusion Matrix:
[[101  18  55  26]
 [ 15 176   1   8]
 [ 13   0 167  20]
 [ 23   3  30 144]]
Epoch:  24
Training finished.
Epoch: 24
Validation Loss:  78.3420729637146 %
Validation F1:  68.17365067169388 %
Validation Accuracy:  68.5 %
Validation Confusion Matrix:
[[ 77  16  23  84]
 [  6 160   0  34]
 [  7   0 134  59]
 [  8   1  14 177]]
Epoch:  25
Training finished.
Epoch: 25
Validation Loss:  70.6513432264328 %
Validation F1:  73.61948946993198 %
Validation Accuracy:  74.0 %
Validation Confusion Matrix:
[[120  26  15  39]
 [  4 193   0   3]
 [ 26   0 129  45]
 [ 25  12  13 150]]
Epoch:  26
Training finished.
Epoch: 26
Validation Loss:  67.1483303308487 %
Validation F1:  74.5932351158485 %
Validation Accuracy:  74.75 %
Validation Confusion Matrix:
[[112  17  25  46]
 [ 12 177   0  11]
 [ 19   0 146  35]
 [ 19   2  16 163]]
Epoch:  27
Training finished.
Epoch: 27
Validation Loss:  66.52092778682709 %
Validation F1:  75.28509670548107 %
Validation Accuracy:  75.125 %
Validation Confusion Matrix:
[[141  16  22  21]
 [ 20 176   0   4]
 [ 27   0 147  26]
 [ 40   5  18 137]]
Epoch:  28
Training finished.
Epoch: 28
Validation Loss:  67.56202167272568 %
Validation F1:  75.41142354080802 %
Validation Accuracy:  75.375 %
Validation Confusion Matrix:
[[146  19  26   9]
 [ 18 181   0   1]
 [ 29   0 157  14]
 [ 53   3  25 119]]
Epoch:  29
Training finished.
Epoch: 29
Validation Loss:  68.89887008070946 %
Validation F1:  76.21436332400035 %
Validation Accuracy:  76.75 %
Validation Confusion Matrix:
[[112  22  29  37]
 [  3 192   0   5]
 [ 19   0 151  30]
 [ 17   8  16 159]]
Epoch:  30
Training finished.
Epoch: 30
Validation Loss:  71.73157677054405 %
Validation F1:  74.44109966175193 %
Validation Accuracy:  74.75 %
Validation Confusion Matrix:
[[114  16  52  18]
 [ 13 183   0   4]
 [ 15   0 170  15]
 [ 32   3  34 131]]
Best Model Performance on Test Set:
Test Loss:  74.03296142529567 %
Test F1:  73.12423327095115 %
Test Accuracy:  72.89244186046511 %
Test Confusion Matrix:
[[175  22  30  97]
 [  8 276   3  10]
 [ 38   4 275  39]
 [ 62  16  44 277]]

Best F1 macro average score:  0.7312423327095116 % achieved after  29  epochs.
Optimizer:  <class 'torch.optim.nadam.NAdam'>
Epoch:  1
Training finished.
Epoch: 1
Validation Loss:  138.23998165130615 %
Validation F1:  15.506822241647983 %
Validation Accuracy:  27.0 %
Validation Confusion Matrix:
[[  0   4 196   0]
 [  0  28 172   0]
 [  0  12 188   0]
 [  0   5 195   0]]
Epoch:  2
Training finished.
Epoch: 2
Validation Loss:  136.30068945884705 %
Validation F1:  44.367189150537115 %
Validation Accuracy:  50.375 %
Validation Confusion Matrix:
[[  7  68  26  99]
 [  1 108  23  68]
 [  8  40 112  40]
 [  0  14  10 176]]
Epoch:  3
Training finished.
Epoch: 3
Validation Loss:  109.71322357654572 %
Validation F1:  47.25615841492296 %
Validation Accuracy:  48.375 %
Validation Confusion Matrix:
[[ 45   7  26 122]
 [113  57   0  30]
 [  5   0 127  68]
 [ 19   3  20 158]]
Epoch:  4
Training finished.
Epoch: 4
Validation Loss:  84.02037453651428 %
Validation F1:  64.74466554284956 %
Validation Accuracy:  67.375 %
Validation Confusion Matrix:
[[ 57  53  48  42]
 [  5 192   0   3]
 [ 18   5 165  12]
 [ 24  19  32 125]]
Epoch:  5
Training finished.
Epoch: 5
Validation Loss:  87.07670968770981 %
Validation F1:  55.41618040528168 %
Validation Accuracy:  60.375 %
Validation Confusion Matrix:
[[ 14  39  13 134]
 [  3 167   0  30]
 [  2   3 117  78]
 [  2  10   3 185]]
Epoch:  6
Training finished.
Epoch: 6
Validation Loss:  75.79858815670013 %
Validation F1:  66.67983459558626 %
Validation Accuracy:  69.875 %
Validation Confusion Matrix:
[[ 47  34  37  82]
 [  4 169   0  27]
 [  7   2 177  14]
 [  3  12  19 166]]
Epoch:  7
Training finished.
Epoch: 7
Validation Loss:  72.40458804368973 %
Validation F1:  70.0805260373513 %
Validation Accuracy:  71.375 %
Validation Confusion Matrix:
[[ 70  23  21  86]
 [ 21 164   0  15]
 [  8   1 164  27]
 [  8   7  12 173]]
Epoch:  8
Training finished.
Epoch: 8
Validation Loss:  77.62489807605743 %
Validation F1:  68.60208052924345 %
Validation Accuracy:  68.125 %
Validation Confusion Matrix:
[[104  23   8  65]
 [ 29 157   0  14]
 [ 14   0 133  53]
 [ 33   8   8 151]]
Epoch:  9
Training finished.
Epoch: 9
Validation Loss:  90.85329413414001 %
Validation F1:  65.56795146798223 %
Validation Accuracy:  67.625 %
Validation Confusion Matrix:
[[ 54  28  31  87]
 [ 18 154   3  25]
 [  8   1 157  34]
 [  6   8  10 176]]
Epoch:  10
Training finished.
Epoch: 10
Validation Loss:  104.90218269824982 %
Validation F1:  63.84655277131648 %
Validation Accuracy:  62.875 %
Validation Confusion Matrix:
[[140  19   4  37]
 [ 41 151   0   8]
 [ 72   0  95  33]
 [ 72   7   4 117]]
Epoch:  11
Training finished.
Epoch: 11
Validation Loss:  85.44265103340149 %
Validation F1:  71.32123515689506 %
Validation Accuracy:  71.875 %
Validation Confusion Matrix:
[[101  30  28  41]
 [ 20 174   4   2]
 [ 14   1 167  18]
 [ 35  11  21 133]]
Epoch:  12
Training finished.
Epoch: 12
Validation Loss:  98.30399948358536 %
Validation F1:  69.6872959256898 %
Validation Accuracy:  71.0 %
Validation Confusion Matrix:
[[ 80  23  53  44]
 [ 21 171   1   7]
 [  9   0 182   9]
 [ 21  11  33 135]]
Epoch:  13
Training finished.
Epoch: 13
Validation Loss:  107.7430166900158 %
Validation F1:  70.05634170673409 %
Validation Accuracy:  69.25 %
Validation Confusion Matrix:
[[140  18   9  33]
 [ 39 157   0   4]
 [ 40   2 129  29]
 [ 58   5   9 128]]
Epoch:  14
Training finished.
Epoch: 14
Validation Loss:  90.53446927666664 %
Validation F1:  71.62059004865887 %
Validation Accuracy:  71.75 %
Validation Confusion Matrix:
[[109  26  23  42]
 [ 19 175   0   6]
 [ 20   2 153  25]
 [ 41  12  10 137]]
Epoch:  15
Training finished.
Epoch: 15
Validation Loss:  121.61867706477642 %
Validation F1:  68.76109330491722 %
Validation Accuracy:  69.5 %
Validation Confusion Matrix:
[[ 95  20  62  23]
 [ 31 163   2   4]
 [ 10   0 185   5]
 [ 36  10  41 113]]
Epoch:  16
Training finished.
Epoch: 16
Validation Loss:  126.63095533847807 %
Validation F1:  71.79378315292192 %
Validation Accuracy:  72.0 %
Validation Confusion Matrix:
[[101  23  21  55]
 [ 26 159   1  14]
 [ 18   0 163  19]
 [ 24   7  16 153]]
Epoch:  17
Training finished.
Epoch: 17
Validation Loss:  140.86641320586205 %
Validation F1:  68.83111901492155 %
Validation Accuracy:  69.5 %
Validation Confusion Matrix:
[[ 96  26  41  37]
 [ 25 168   2   5]
 [ 12   1 174  13]
 [ 43  10  29 118]]
Epoch:  18
Training finished.
Epoch: 18
Validation Loss:  139.27802288532257 %
Validation F1:  68.30271686648524 %
Validation Accuracy:  68.0 %
Validation Confusion Matrix:
[[120  16  28  36]
 [ 48 146   0   6]
 [ 22   1 165  12]
 [ 52   6  29 113]]
Epoch:  19
Training finished.
Epoch: 19
Validation Loss:  141.6043063700199 %
Validation F1:  68.2531754840301 %
Validation Accuracy:  69.5 %
Validation Confusion Matrix:
[[ 72  33  18  77]
 [  6 181   3  10]
 [  8   3 151  38]
 [ 20  13  15 152]]
Epoch:  20
Training finished.
Epoch: 20
Validation Loss:  130.91828456521034 %
Validation F1:  70.65985390932242 %
Validation Accuracy:  71.0 %
Validation Confusion Matrix:
[[103  22  33  42]
 [ 26 156   0  18]
 [ 10   3 173  14]
 [ 33   5  26 136]]
Epoch:  21
Training finished.
Epoch: 21
Validation Loss:  107.07301193475722 %
Validation F1:  70.44693518505997 %
Validation Accuracy:  70.5 %
Validation Confusion Matrix:
[[ 99  20  15  66]
 [ 23 169   1   7]
 [ 22   3 151  24]
 [ 31   5  19 145]]
Epoch:  22
Training finished.
Epoch: 22
Validation Loss:  160.49308466911316 %
Validation F1:  69.86139901808495 %
Validation Accuracy:  70.75 %
Validation Confusion Matrix:
[[ 87  26  39  48]
 [ 19 174   1   6]
 [ 10   3 172  15]
 [ 37   6  24 133]]
Epoch:  23
Training finished.
Epoch: 23
Validation Loss:  128.35892161726952 %
Validation F1:  70.15214233841685 %
Validation Accuracy:  71.5 %
Validation Confusion Matrix:
[[ 79  31  32  58]
 [  8 180   1  11]
 [  9   5 171  15]
 [ 28   9  21 142]]
Epoch:  24
Training finished.
Epoch: 24
Validation Loss:  136.36345088481903 %
Validation F1:  69.56270618286932 %
Validation Accuracy:  70.25 %
Validation Confusion Matrix:
[[ 96  23  38  43]
 [ 23 171   1   5]
 [ 10   3 174  13]
 [ 42   9  28 121]]
Epoch:  25
Training finished.
Epoch: 25
Validation Loss:  136.5908413529396 %
Validation F1:  69.25977623009538 %
Validation Accuracy:  69.75 %
Validation Confusion Matrix:
[[103  32  26  39]
 [ 17 174   1   8]
 [ 17   6 159  18]
 [ 42  12  24 122]]
Epoch:  26
Training finished.
Epoch: 26
Validation Loss:  156.00967478752136 %
Validation F1:  68.61212688924999 %
Validation Accuracy:  69.5 %
Validation Confusion Matrix:
[[ 88  26  45  41]
 [ 23 169   0   8]
 [ 12   3 172  13]
 [ 29   9  35 127]]
Epoch:  27
Training finished.
Epoch: 27
Validation Loss:  193.8271821141243 %
Validation F1:  71.91989594452386 %
Validation Accuracy:  72.375 %
Validation Confusion Matrix:
[[101  27  29  43]
 [ 26 169   0   5]
 [ 11   1 169  19]
 [ 32  11  17 140]]
Epoch:  28
Training finished.
Epoch: 28
Validation Loss:  139.17136025428772 %
Validation F1:  10.0 %
Validation Accuracy:  25.0 %
Validation Confusion Matrix:
[[  0 200   0   0]
 [  0 200   0   0]
 [  0 200   0   0]
 [  0 200   0   0]]
Epoch:  29
Training finished.
Epoch: 29
Validation Loss:  140.15140318870544 %
Validation F1:  10.0 %
Validation Accuracy:  25.0 %
Validation Confusion Matrix:
[[200   0   0   0]
 [200   0   0   0]
 [200   0   0   0]
 [200   0   0   0]]
Epoch:  30
Training finished.
Epoch: 30
Validation Loss:  138.8694944381714 %
Validation F1:  10.0 %
Validation Accuracy:  25.0 %
Validation Confusion Matrix:
[[200   0   0   0]
 [200   0   0   0]
 [200   0   0   0]
 [200   0   0   0]]
Best Model Performance on Test Set:
Test Loss:  222.93893752943137 %
Test F1:  68.99172676878648 %
Test Accuracy:  68.96802325581395 %
Test Confusion Matrix:
[[161  37  26 100]
 [ 34 250   2  11]
 [ 29   6 289  32]
 [ 77  24  49 249]]

Best F1 macro average score:  0.6899172676878648 % achieved after  27  epochs.
Optimizer:  <class 'torch.optim.radam.RAdam'>
Epoch:  1
Training finished.
Epoch: 1
Validation Loss:  89.30798208713531 %
Validation F1:  62.089797997789574 %
Validation Accuracy:  64.25 %
Validation Confusion Matrix:
[[ 53  49  34  64]
 [ 25 169   3   3]
 [  4   4 156  36]
 [ 18   4  42 136]]
Epoch:  2
Training finished.
Epoch: 2
Validation Loss:  86.50889050960541 %
Validation F1:  64.6427892316241 %
Validation Accuracy:  64.5 %
Validation Confusion Matrix:
[[105  24  32  39]
 [ 65 131   1   3]
 [ 11   5 163  21]
 [ 42   1  40 117]]
Epoch:  3
Training finished.
Epoch: 3
Validation Loss:  76.22440487146378 %
Validation F1:  69.2968865045606 %
Validation Accuracy:  70.75 %
Validation Confusion Matrix:
[[ 80  56   8  56]
 [  2 196   0   2]
 [ 19   4 127  50]
 [ 16   9  12 163]]
Epoch:  4
Training finished.
Epoch: 4
Validation Loss:  66.93605440855026 %
Validation F1:  72.96596616508064 %
Validation Accuracy:  73.75 %
Validation Confusion Matrix:
[[ 91  32  11  66]
 [  7 184   0   9]
 [ 13   4 143  40]
 [  9   9  10 172]]
Epoch:  5
Training finished.
Epoch: 5
Validation Loss:  80.5810956954956 %
Validation F1:  65.99995585116318 %
Validation Accuracy:  68.0 %
Validation Confusion Matrix:
[[ 84  55  43  18]
 [  6 191   0   3]
 [ 13   5 176   6]
 [ 46  11  50  93]]
Epoch:  6
Training finished.
Epoch: 6
Validation Loss:  70.37988859415054 %
Validation F1:  74.40004766510569 %
Validation Accuracy:  74.625 %
Validation Confusion Matrix:
[[112  13  36  39]
 [ 20 161   1  18]
 [ 11   1 172  16]
 [ 22   6  20 152]]
Epoch:  7
Training finished.
Epoch: 7
Validation Loss:  86.7670567035675 %
Validation F1:  66.79551233380991 %
Validation Accuracy:  67.125 %
Validation Confusion Matrix:
[[ 76  20  15  89]
 [ 16 129   0  55]
 [  9   0 157  34]
 [  9   4  12 175]]
Epoch:  8
Training finished.
Epoch: 8
Validation Loss:  69.90238726139069 %
Validation F1:  72.45894359857058 %
Validation Accuracy:  72.375 %
Validation Confusion Matrix:
[[122  28  29  21]
 [ 18 177   1   4]
 [ 35   0 156   9]
 [ 54  11  11 124]]
Epoch:  9
Training finished.
Epoch: 9
Validation Loss:  113.8870278596878 %
Validation F1:  56.539821542151756 %
Validation Accuracy:  56.99999999999999 %
Validation Confusion Matrix:
[[109   6  65  20]
 [107  83   3   7]
 [  7   0 183  10]
 [ 76   0  43  81]]
Epoch:  10
Training finished.
Epoch: 10
Validation Loss:  86.58179685473442 %
Validation F1:  70.43316612346689 %
Validation Accuracy:  70.75 %
Validation Confusion Matrix:
[[ 98  13  31  58]
 [ 34 133   1  32]
 [ 14   0 162  24]
 [ 11   5  11 173]]
Epoch:  11
Training finished.
Epoch: 11
Validation Loss:  90.59074461460114 %
Validation F1:  70.78162974614996 %
Validation Accuracy:  70.625 %
Validation Confusion Matrix:
[[ 98  11  17  74]
 [ 22 144   0  34]
 [ 11   1 153  35]
 [ 13   6  11 170]]
Epoch:  12
Training finished.
Epoch: 12
Validation Loss:  87.3253980576992 %
Validation F1:  71.29106535698689 %
Validation Accuracy:  71.25 %
Validation Confusion Matrix:
[[113  29  11  47]
 [ 14 172   0  14]
 [ 32   2 132  34]
 [ 31   8   8 153]]
Epoch:  13
Training finished.
Epoch: 13
Validation Loss:  99.8562625348568 %
Validation F1:  73.4140265694995 %
Validation Accuracy:  73.375 %
Validation Confusion Matrix:
[[118  29  14  39]
 [ 16 176   0   8]
 [ 35   3 144  18]
 [ 34  10   7 149]]
Epoch:  14
Training finished.
Epoch: 14
Validation Loss:  116.25908225774766 %
Validation F1:  66.68400317485262 %
Validation Accuracy:  66.25 %
Validation Confusion Matrix:
[[104  14  24  58]
 [ 43 124   5  28]
 [ 13   1 151  35]
 [ 40   3   6 151]]
Epoch:  15
Training finished.
Epoch: 15
Validation Loss:  119.43436002731322 %
Validation F1:  69.97885344778311 %
Validation Accuracy:  70.75 %
Validation Confusion Matrix:
[[ 82  20  41  57]
 [ 22 164   0  14]
 [ 12   0 173  15]
 [ 34   5  14 147]]
Epoch:  16
Training finished.
Epoch: 16
Validation Loss:  133.8993214070797 %
Validation F1:  71.30166502240716 %
Validation Accuracy:  72.0 %
Validation Confusion Matrix:
[[109  42  24  25]
 [  7 188   0   5]
 [ 24   5 160  11]
 [ 41  22  18 119]]
Epoch:  17
Training finished.
Epoch: 17
Validation Loss:  122.21685203909874 %
Validation F1:  68.05615430652954 %
Validation Accuracy:  69.25 %
Validation Confusion Matrix:
[[120  27  36  17]
 [ 23 175   0   2]
 [ 14   2 177   7]
 [ 67  15  36  82]]
Epoch:  18
Training finished.
Epoch: 18
Validation Loss:  105.68618726730348 %
Validation F1:  68.98380976131794 %
Validation Accuracy:  68.625 %
Validation Confusion Matrix:
[[113  21  19  47]
 [ 29 159   0  12]
 [ 24   0 143  33]
 [ 42   7  17 134]]
Epoch:  19
Training finished.
Epoch: 19
Validation Loss:  119.26300182938576 %
Validation F1:  70.15983986708254 %
Validation Accuracy:  70.0 %
Validation Confusion Matrix:
[[142  19  16  23]
 [ 34 166   0   0]
 [ 33   2 154  11]
 [ 71   7  24  98]]
Epoch:  20
Training finished.
Epoch: 20
Validation Loss:  156.34263694286346 %
Validation F1:  69.85383129775525 %
Validation Accuracy:  70.25 %
Validation Confusion Matrix:
[[109  31  28  32]
 [  9 177   0  14]
 [ 21   5 157  17]
 [ 51  16  14 119]]
Epoch:  21
Training finished.
Epoch: 21
Validation Loss:  138.9366010427475 %
Validation F1:  65.370355647726 %
Validation Accuracy:  65.0 %
Validation Confusion Matrix:
[[ 91  21   9  79]
 [ 31 137   0  32]
 [ 20   2 129  49]
 [ 21   7   9 163]]
Epoch:  22
Training finished.
Epoch: 22
Validation Loss:  154.92784725129604 %
Validation F1:  68.19550967280254 %
Validation Accuracy:  69.25 %
Validation Confusion Matrix:
[[ 77  21  57  45]
 [ 31 160   1   8]
 [ 12   3 172  13]
 [ 23  10  22 145]]
Epoch:  23
Training finished.
Epoch: 23
Validation Loss:  111.1371595263481 %
Validation F1:  71.29146399114748 %
Validation Accuracy:  71.25 %
Validation Confusion Matrix:
[[122  21  26  31]
 [ 23 159   1  17]
 [ 21   1 161  17]
 [ 41   9  22 128]]
Epoch:  24
Training finished.
Epoch: 24
Validation Loss:  166.92047083377838 %
Validation F1:  64.99903706751802 %
Validation Accuracy:  64.5 %
Validation Confusion Matrix:
[[115  13  34  38]
 [ 57 131   1  11]
 [ 17   1 162  20]
 [ 63   5  24 108]]
Epoch:  25
Training finished.
Epoch: 25
Validation Loss:  180.57802268862724 %
Validation F1:  66.25499067893807 %
Validation Accuracy:  65.375 %
Validation Confusion Matrix:
[[145  17   3  35]
 [ 32 155   0  13]
 [ 54   2 106  38]
 [ 74   3   6 117]]
Epoch:  26
Training finished.
Epoch: 26
Validation Loss:  163.92544162273407 %
Validation F1:  72.23351642002565 %
Validation Accuracy:  71.875 %
Validation Confusion Matrix:
[[121  14  15  50]
 [ 22 161   0  17]
 [ 16   1 153  30]
 [ 37   8  15 140]]
Epoch:  27
Training finished.
Epoch: 27
Validation Loss:  184.55104225873947 %
Validation F1:  68.58936065925315 %
Validation Accuracy:  69.5 %
Validation Confusion Matrix:
[[ 79  29  30  62]
 [ 13 166   1  20]
 [ 13   2 155  30]
 [ 19   6  19 156]]
Epoch:  28
Training finished.
Epoch: 28
Validation Loss:  130.19290459156036 %
Validation F1:  66.07870494103378 %
Validation Accuracy:  67.0 %
Validation Confusion Matrix:
[[ 85  33  48  34]
 [ 16 161   2  21]
 [ 12   2 172  14]
 [ 40   7  35 118]]
Epoch:  29
Training finished.
Epoch: 29
Validation Loss:  146.04331612586975 %
Validation F1:  32.75111372310013 %
Validation Accuracy:  38.125 %
Validation Confusion Matrix:
[[ 21  54   2 123]
 [  8  97   1  94]
 [ 42  32  23 103]
 [ 14  20   2 164]]
Epoch:  30
Training finished.
Epoch: 30
Validation Loss:  120.9372090101242 %
Validation F1:  45.580693884856615 %
Validation Accuracy:  47.5 %
Validation Confusion Matrix:
[[ 32  15  42 111]
 [ 31  71   7  91]
 [ 19   2 149  30]
 [ 20   6  46 128]]
Best Model Performance on Test Set:
Test Loss:  72.50579100015551 %
Test F1:  70.83719171663272 %
Test Accuracy:  71.07558139534885 %
Test Confusion Matrix:
[[169  30  57  68]
 [ 21 260   4  12]
 [ 28   5 307  16]
 [ 75  25  57 242]]

Best F1 macro average score:  0.7083719171663272 % achieved after  6  epochs.
Optimizer:  <class 'torch.optim.rmsprop.RMSprop'>
Epoch:  1
Training finished.
Epoch: 1
Validation Loss:  123.44351434707642 %
Validation F1:  40.16570710229247 %
Validation Accuracy:  44.125 %
Validation Confusion Matrix:
[[ 17  43  45  95]
 [  3 112  61  24]
 [  1  14  67 118]
 [  0   6  37 157]]
Epoch:  2
Training finished.
Epoch: 2
Validation Loss:  99.19514524936676 %
Validation F1:  58.66135067990522 %
Validation Accuracy:  58.62500000000001 %
Validation Confusion Matrix:
[[ 89  46  27  38]
 [ 52 140   7   1]
 [ 18  12 117  53]
 [ 44   8  25 123]]
Epoch:  3
Training finished.
Epoch: 3
Validation Loss:  93.38852715492249 %
Validation F1:  60.10702302532754 %
Validation Accuracy:  60.12499999999999 %
Validation Confusion Matrix:
[[ 94  48  27  31]
 [ 55 138   6   1]
 [ 21  14 145  20]
 [ 48   8  40 104]]
Epoch:  4
Training finished.
Epoch: 4
Validation Loss:  89.81433725357056 %
Validation F1:  60.07590147706097 %
Validation Accuracy:  59.375 %
Validation Confusion Matrix:
[[112  33   5  50]
 [ 78 119   1   2]
 [ 25   5 100  70]
 [ 45   3   8 144]]
Epoch:  5
Training finished.
Epoch: 5
Validation Loss:  99.62095749378204 %
Validation F1:  55.92480010860709 %
Validation Accuracy:  58.25 %
Validation Confusion Matrix:
[[ 42  78  24  56]
 [ 22 163   6   9]
 [ 13  10 140  37]
 [ 29  12  38 121]]
Epoch:  6
Training finished.
Epoch: 6
Validation Loss:  88.06120693683624 %
Validation F1:  57.64362277196399 %
Validation Accuracy:  61.75000000000001 %
Validation Confusion Matrix:
[[ 26  60  17  97]
 [ 10 159   2  29]
 [  4   4 134  58]
 [  1   7  17 175]]
Epoch:  7
Training finished.
Epoch: 7
Validation Loss:  81.34651589393616 %
Validation F1:  67.32107352822776 %
Validation Accuracy:  67.75 %
Validation Confusion Matrix:
[[ 85  36  15  64]
 [ 35 151   1  13]
 [ 11   3 141  45]
 [ 17   5  13 165]]
Epoch:  8
Training finished.
Epoch: 8
Validation Loss:  98.5222442150116 %
Validation F1:  58.0819566344499 %
Validation Accuracy:  60.62499999999999 %
Validation Confusion Matrix:
[[117  24  52   7]
 [ 46 151   3   0]
 [ 18   5 174   3]
 [ 75   8  74  43]]
Epoch:  9
Training finished.
Epoch: 9
Validation Loss:  84.37123399972916 %
Validation F1:  68.00438707876435 %
Validation Accuracy:  68.125 %
Validation Confusion Matrix:
[[103  26  38  33]
 [ 52 133   5  10]
 [ 19   1 169  11]
 [ 26   8  26 140]]
Epoch:  10
Training finished.
Epoch: 10
Validation Loss:  95.64827531576157 %
Validation F1:  62.97239993671556 %
Validation Accuracy:  63.24999999999999 %
Validation Confusion Matrix:
[[108  10  45  37]
 [ 77 102   4  17]
 [ 13   2 177   8]
 [ 25   1  55 119]]
Epoch:  11
Training finished.
Epoch: 11
Validation Loss:  101.79688227176666 %
Validation F1:  50.82634003720815 %
Validation Accuracy:  56.125 %
Validation Confusion Matrix:
[[ 33  58   1 108]
 [  1 174   0  25]
 [ 17  13  52 118]
 [  2   7   1 190]]
Epoch:  12
Training finished.
Epoch: 12
Validation Loss:  93.42556992173195 %
Validation F1:  65.5733650165186 %
Validation Accuracy:  67.75 %
Validation Confusion Matrix:
[[ 69  47  43  41]
 [ 11 180   2   7]
 [  7   8 178   7]
 [ 15  17  53 115]]
Epoch:  13
Training finished.
Epoch: 13
Validation Loss:  85.83912432193756 %
Validation F1:  65.88378531408745 %
Validation Accuracy:  65.625 %
Validation Confusion Matrix:
[[117  16  25  42]
 [ 49 120   2  29]
 [ 20   0 168  12]
 [ 48   2  30 120]]
Epoch:  14
Training finished.
Epoch: 14
Validation Loss:  81.21009987592697 %
Validation F1:  68.61885117085293 %
Validation Accuracy:  69.0 %
Validation Confusion Matrix:
[[ 86  27  17  70]
 [ 30 149   1  20]
 [  6   4 157  33]
 [ 20   7  13 160]]
Epoch:  15
Training finished.
Epoch: 15
Validation Loss:  154.9056203365326 %
Validation F1:  42.08987782884858 %
Validation Accuracy:  47.875 %
Validation Confusion Matrix:
[[ 32  30   2 136]
 [  3 141   0  56]
 [  4   4  19 173]
 [  5   4   0 191]]
Epoch:  16
Training finished.
Epoch: 16
Validation Loss:  77.05485099554062 %
Validation F1:  73.67532215658596 %
Validation Accuracy:  74.25 %
Validation Confusion Matrix:
[[102  32  20  46]
 [ 18 176   1   5]
 [ 10   1 174  15]
 [ 33  11  14 142]]
Epoch:  17
Training finished.
Epoch: 17
Validation Loss:  74.22673365473747 %
Validation F1:  72.10481320177301 %
Validation Accuracy:  72.0 %
Validation Confusion Matrix:
[[121  17  28  34]
 [ 35 156   3   6]
 [ 19   1 167  13]
 [ 38   6  24 132]]
Epoch:  18
Training finished.
Epoch: 18
Validation Loss:  95.5614937543869 %
Validation F1:  66.41903788629054 %
Validation Accuracy:  67.75 %
Validation Confusion Matrix:
[[ 80  35  43  42]
 [ 17 172   2   9]
 [ 10   2 172  16]
 [ 20  10  52 118]]
Epoch:  19
Training finished.
Epoch: 19
Validation Loss:  85.86402380466461 %
Validation F1:  68.83344195181225 %
Validation Accuracy:  69.375 %
Validation Confusion Matrix:
[[ 83  30  17  70]
 [ 15 170   0  15]
 [ 21   0 139  40]
 [ 21   8   8 163]]
Epoch:  20
Training finished.
Epoch: 20
Validation Loss:  98.55711582303047 %
Validation F1:  69.00938290527533 %
Validation Accuracy:  69.75 %
Validation Confusion Matrix:
[[101  29  49  21]
 [ 28 168   2   2]
 [ 11   1 181   7]
 [ 50  11  31 108]]
Epoch:  21
Training finished.
Epoch: 21
Validation Loss:  131.66887015104294 %
Validation F1:  61.41740072328554 %
Validation Accuracy:  61.375 %
Validation Confusion Matrix:
[[100  11   5  84]
 [ 30 142   0  28]
 [ 28   0  76  96]
 [ 22   3   2 173]]
Epoch:  22
Training finished.
Epoch: 22
Validation Loss:  93.97178661823273 %
Validation F1:  69.25591800314322 %
Validation Accuracy:  70.0 %
Validation Confusion Matrix:
[[107  34  38  21]
 [ 21 176   2   1]
 [ 14   1 175  10]
 [ 62  10  26 102]]
Epoch:  23
Training finished.
Epoch: 23
Validation Loss:  154.19207954406738 %
Validation F1:  65.22712501370084 %
Validation Accuracy:  66.25 %
Validation Confusion Matrix:
[[104  20  60  16]
 [ 32 157   5   6]
 [ 10   0 186   4]
 [ 52   6  59  83]]
Epoch:  24
Training finished.
Epoch: 24
Validation Loss:  109.14848798513412 %
Validation F1:  68.83875892801092 %
Validation Accuracy:  69.375 %
Validation Confusion Matrix:
[[ 97  24  41  38]
 [ 23 165   2  10]
 [ 14   1 173  12]
 [ 43   6  31 120]]
Epoch:  25
Training finished.
Epoch: 25
Validation Loss:  109.05359095335008 %
Validation F1:  69.47296291720629 %
Validation Accuracy:  71.25 %
Validation Confusion Matrix:
[[ 68  31  34  67]
 [  6 178   2  14]
 [ 12   2 165  21]
 [ 16  11  14 159]]
Epoch:  26
Training finished.
Epoch: 26
Validation Loss:  107.789227694273 %
Validation F1:  71.1826443484052 %
Validation Accuracy:  70.875 %
Validation Confusion Matrix:
[[121  23  19  37]
 [ 33 153   1  13]
 [ 23   2 152  23]
 [ 39   7  13 141]]
Epoch:  27
Training finished.
Epoch: 27
Validation Loss:  188.67205905914307 %
Validation F1:  60.244646897896324 %
Validation Accuracy:  62.625 %
Validation Confusion Matrix:
[[ 61  72   5  62]
 [  4 192   0   4]
 [ 18   9  91  82]
 [ 16  21   6 157]]
Epoch:  28
Training finished.
Epoch: 28
Validation Loss:  129.21811029314995 %
Validation F1:  69.4107562123514 %
Validation Accuracy:  70.375 %
Validation Confusion Matrix:
[[ 83  28  39  50]
 [ 16 160   3  21]
 [ 10   3 169  18]
 [ 23   7  19 151]]
Epoch:  29
Training finished.
Epoch: 29
Validation Loss:  115.21848958730698 %
Validation F1:  68.80494106431365 %
Validation Accuracy:  68.375 %
Validation Confusion Matrix:
[[125  24   9  42]
 [ 25 170   1   4]
 [ 41   3 127  29]
 [ 54  12   9 125]]
Epoch:  30
Training finished.
Epoch: 30
Validation Loss:  125.24662858247757 %
Validation F1:  68.82622530395136 %
Validation Accuracy:  69.0 %
Validation Confusion Matrix:
[[ 96  18  37  49]
 [ 31 159   1   9]
 [ 13   0 161  26]
 [ 36   7  21 136]]
Best Model Performance on Test Set:
Test Loss:  78.53543655649045 %
Test F1:  69.64749290295588 %
Test Accuracy:  69.69476744186046 %
Test Confusion Matrix:
[[157  28  29 110]
 [ 15 278   2   2]
 [ 30   9 288  29]
 [ 91  33  39 236]]

Best F1 macro average score:  0.6964749290295588 % achieved after  16  epochs.
Optimizer:  <class 'torch.optim.rprop.Rprop'>
Epoch:  1
Training finished.
Epoch: 1
Validation Loss:  81.57957470417023 %
Validation F1:  66.31985843062986 %
Validation Accuracy:  67.5 %
Validation Confusion Matrix:
[[ 77  36  50  37]
 [ 16 171   1  12]
 [ 11   2 163  24]
 [ 29   6  36 129]]
Epoch:  2
Training finished.
Epoch: 2
Validation Loss:  79.61883509159088 %
Validation F1:  68.44589364749125 %
Validation Accuracy:  69.25 %
Validation Confusion Matrix:
[[ 86  28  48  38]
 [ 16 171   1  12]
 [ 12   2 162  24]
 [ 31   4  30 135]]
Epoch:  3
Training finished.
Epoch: 3
Validation Loss:  78.60739541053772 %
Validation F1:  68.39704432803167 %
Validation Accuracy:  69.125 %
Validation Confusion Matrix:
[[ 86  28  46  40]
 [ 18 164   1  17]
 [ 11   2 162  25]
 [ 30   4  25 141]]
Epoch:  4
Training finished.
Epoch: 4
Validation Loss:  77.86832052469254 %
Validation F1:  68.43262343894249 %
Validation Accuracy:  69.125 %
Validation Confusion Matrix:
[[ 88  27  48  37]
 [ 17 167   1  15]
 [ 12   2 162  24]
 [ 31   4  29 136]]
Epoch:  5
Training finished.
Epoch: 5
Validation Loss:  77.06472903490067 %
Validation F1:  69.15366317809311 %
Validation Accuracy:  69.875 %
Validation Confusion Matrix:
[[ 88  27  46  39]
 [ 16 169   1  14]
 [ 12   2 161  25]
 [ 30   4  25 141]]
Epoch:  6
Training finished.
Epoch: 6
Validation Loss:  77.21569001674652 %
Validation F1:  69.38248204002942 %
Validation Accuracy:  70.0 %
Validation Confusion Matrix:
[[ 90  26  44  40]
 [ 17 167   1  15]
 [ 13   0 160  27]
 [ 28   5  24 143]]
Epoch:  7
Training finished.
Epoch: 7
Validation Loss:  77.46604990959167 %
Validation F1:  69.55044561785382 %
Validation Accuracy:  70.125 %
Validation Confusion Matrix:
[[ 92  26  45  37]
 [ 15 169   1  15]
 [ 14   0 158  28]
 [ 29   5  24 142]]
Epoch:  8
Training finished.
Epoch: 8
Validation Loss:  76.74252063035965 %
Validation F1:  70.31337841168431 %
Validation Accuracy:  70.875 %
Validation Confusion Matrix:
[[ 94  26  44  36]
 [ 19 170   1  10]
 [ 14   0 160  26]
 [ 28   5  24 143]]
Epoch:  9
Training finished.
Epoch: 9
Validation Loss:  76.66246545314789 %
Validation F1:  70.37462002619283 %
Validation Accuracy:  70.75 %
Validation Confusion Matrix:
[[ 98  27  34  41]
 [ 18 170   0  12]
 [ 18   0 147  35]
 [ 26   5  18 151]]
Epoch:  10
Training finished.
Epoch: 10
Validation Loss:  77.57669180631638 %
Validation F1:  69.0937376905246 %
Validation Accuracy:  69.375 %
Validation Confusion Matrix:
[[ 97  25  42  36]
 [ 30 156   1  13]
 [ 14   0 161  25]
 [ 31   4  24 141]]
Epoch:  11
Training finished.
Epoch: 11
Validation Loss:  77.2411897778511 %
Validation F1:  70.57440284073638 %
Validation Accuracy:  71.0 %
Validation Confusion Matrix:
[[ 98  28  37  37]
 [ 19 170   1  10]
 [ 16   0 154  30]
 [ 28   4  22 146]]
Epoch:  12
Training finished.
Epoch: 12
Validation Loss:  78.1203284561634 %
Validation F1:  69.86952863961224 %
Validation Accuracy:  70.25 %
Validation Confusion Matrix:
[[ 97  27  41  35]
 [ 26 162   1  11]
 [ 14   0 158  28]
 [ 28   5  22 145]]
Epoch:  13
Training finished.
Epoch: 13
Validation Loss:  78.29136055707932 %
Validation F1:  70.10011581030547 %
Validation Accuracy:  70.625 %
Validation Confusion Matrix:
[[ 94  26  46  34]
 [ 28 161   1  10]
 [ 12   0 167  21]
 [ 27   5  25 143]]
Epoch:  14
Training finished.
Epoch: 14
Validation Loss:  78.20916187763214 %
Validation F1:  70.59550153660801 %
Validation Accuracy:  71.125 %
Validation Confusion Matrix:
[[ 95  27  39  39]
 [ 17 169   1  13]
 [ 14   0 156  30]
 [ 25   5  21 149]]
Epoch:  15
Training finished.
Epoch: 15
Validation Loss:  78.15174382925034 %
Validation F1:  70.57431507964176 %
Validation Accuracy:  71.0 %
Validation Confusion Matrix:
[[ 98  27  40  35]
 [ 22 169   0   9]
 [ 15   0 155  30]
 [ 27   5  22 146]]
Epoch:  16
Training finished.
Epoch: 16
Validation Loss:  78.44763332605362 %
Validation F1:  70.43945447031271 %
Validation Accuracy:  70.875 %
Validation Confusion Matrix:
[[ 97  26  40  37]
 [ 22 165   1  12]
 [ 13   0 157  30]
 [ 25   5  22 148]]
Epoch:  17
Training finished.
Epoch: 17
Validation Loss:  78.06606459617615 %
Validation F1:  70.91388645010244 %
Validation Accuracy:  71.375 %
Validation Confusion Matrix:
[[ 98  27  38  37]
 [ 19 170   0  11]
 [ 14   0 156  30]
 [ 26   5  22 147]]
Epoch:  18
Training finished.
Epoch: 18
Validation Loss:  78.82009154558182 %
Validation F1:  71.1473030633209 %
Validation Accuracy:  71.75 %
Validation Confusion Matrix:
[[ 95  30  35  40]
 [ 14 176   0  10]
 [ 14   0 151  35]
 [ 26   5  17 152]]
Epoch:  19
Training finished.
Epoch: 19
Validation Loss:  78.72926419973373 %
Validation F1:  69.97873354761491 %
Validation Accuracy:  70.375 %
Validation Confusion Matrix:
[[ 95  26  36  43]
 [ 21 164   0  15]
 [ 13   0 153  34]
 [ 26   5  18 151]]
Epoch:  20
Training finished.
Epoch: 20
Validation Loss:  78.61173850297928 %
Validation F1:  70.84587783954066 %
Validation Accuracy:  71.375 %
Validation Confusion Matrix:
[[ 96  30  32  42]
 [ 15 176   0   9]
 [ 14   0 145  41]
 [ 26   5  15 154]]
Epoch:  21
Training finished.
Epoch: 21
Validation Loss:  78.47564363479614 %
Validation F1:  71.59959605978705 %
Validation Accuracy:  71.875 %
Validation Confusion Matrix:
[[104  26  33  37]
 [ 22 170   0   8]
 [ 15   0 151  34]
 [ 28   5  17 150]]
Epoch:  22
Training finished.
Epoch: 22
Validation Loss:  78.27782881259918 %
Validation F1:  71.44344620057484 %
Validation Accuracy:  71.875 %
Validation Confusion Matrix:
[[ 99  26  38  37]
 [ 23 169   0   8]
 [ 14   0 158  28]
 [ 26   5  20 149]]
Epoch:  23
Training finished.
Epoch: 23
Validation Loss:  78.61324179172516 %
Validation F1:  72.25320378475385 %
Validation Accuracy:  72.5 %
Validation Confusion Matrix:
[[108  26  35  31]
 [ 24 168   0   8]
 [ 15   0 158  27]
 [ 28   5  21 146]]
Epoch:  24
Training finished.
Epoch: 24
Validation Loss:  78.61462190747261 %
Validation F1:  72.02301584207935 %
Validation Accuracy:  72.5 %
Validation Confusion Matrix:
[[100  27  36  37]
 [ 18 174   0   8]
 [ 13   0 155  32]
 [ 26   5  18 151]]
Epoch:  25
Training finished.
Epoch: 25
Validation Loss:  78.74834370613098 %
Validation F1:  71.9417145951935 %
Validation Accuracy:  72.375 %
Validation Confusion Matrix:
[[100  28  31  41]
 [ 14 174   0  12]
 [ 15   0 149  36]
 [ 25   4  15 156]]
Epoch:  26
Training finished.
Epoch: 26
Validation Loss:  79.3043023943901 %
Validation F1:  71.69002587299775 %
Validation Accuracy:  72.125 %
Validation Confusion Matrix:
[[101  30  29  40]
 [ 15 176   0   9]
 [ 15   0 144  41]
 [ 25   5  14 156]]
Epoch:  27
Training finished.
Epoch: 27
Validation Loss:  78.57142227888107 %
Validation F1:  72.30761382574737 %
Validation Accuracy:  72.625 %
Validation Confusion Matrix:
[[104  27  32  37]
 [ 23 169   0   8]
 [ 15   0 154  31]
 [ 25   4  17 154]]
Epoch:  28
Training finished.
Epoch: 28
Validation Loss:  78.43686020374298 %
Validation F1:  72.57055484409247 %
Validation Accuracy:  73.0 %
Validation Confusion Matrix:
[[103  27  39  31]
 [ 21 171   0   8]
 [ 14   0 161  25]
 [ 25   4  22 149]]
Epoch:  29
Training finished.
Epoch: 29
Validation Loss:  78.63141310214996 %
Validation F1:  72.71111088236393 %
Validation Accuracy:  73.125 %
Validation Confusion Matrix:
[[103  28  30  39]
 [ 16 175   0   9]
 [ 15   0 153  32]
 [ 25   4  17 154]]
Epoch:  30
Training finished.
Epoch: 30
Validation Loss:  78.47854083776474 %
Validation F1:  72.39623153295354 %
Validation Accuracy:  72.75 %
Validation Confusion Matrix:
[[103  27  31  39]
 [ 20 170   0  10]
 [ 14   0 155  31]
 [ 25   4  17 154]]
Best Model Performance on Test Set:
Test Loss:  97.56801764705479 %
Test F1:  68.96265565673136 %
Test Accuracy:  69.04069767441861 %
Test Confusion Matrix:
[[156  27  52  89]
 [ 17 266   0  14]
 [ 45   5 275  31]
 [ 68  31  47 253]]

Best F1 macro average score:  0.6896265565673136 % achieved after  29  epochs.
Optimizer:  <class 'torch.optim.sgd.SGD'>
Epoch:  1
Training finished.
Epoch: 1
Validation Loss:  133.79498410224915 %
Validation F1:  29.035732205003985 %
Validation Accuracy:  40.75 %
Validation Confusion Matrix:
[[  0  31 169   0]
 [  0 131  69   0]
 [  0   5 195   0]
 [  0  16 184   0]]
Epoch:  2
Training finished.
Epoch: 2
Validation Loss:  122.88878679275513 %
Validation F1:  28.505161980531202 %
Validation Accuracy:  39.625 %
Validation Confusion Matrix:
[[  0  23 177   0]
 [  0 121  79   0]
 [  0   4 196   0]
 [  0  11 189   0]]
Epoch:  3
Training finished.
Epoch: 3
Validation Loss:  115.65242958068849 %
Validation F1:  44.7852698797035 %
Validation Accuracy:  45.875 %
Validation Confusion Matrix:
[[163  18   4  15]
 [100  96   3   1]
 [131   0  32  37]
 [121   3   0  76]]
Epoch:  4
Training finished.
Epoch: 4
Validation Loss:  105.49804079532623 %
Validation F1:  40.37756285274779 %
Validation Accuracy:  47.375 %
Validation Confusion Matrix:
[[ 20  69 101  10]
 [ 13 162  24   1]
 [  6  20 168   6]
 [ 11  19 141  29]]
Epoch:  5
Training finished.
Epoch: 5
Validation Loss:  101.57535552978516 %
Validation F1:  52.48289603980372 %
Validation Accuracy:  55.25 %
Validation Confusion Matrix:
[[ 36  71  40  53]
 [ 25 165   7   3]
 [ 12  22 114  52]
 [ 21  16  36 127]]
Epoch:  6
Training finished.
Epoch: 6
Validation Loss:  99.2529593706131 %
Validation F1:  54.517084319052564 %
Validation Accuracy:  55.375 %
Validation Confusion Matrix:
[[ 50  33  49  68]
 [ 45 138   9   8]
 [ 20   3 119  58]
 [ 24   3  37 136]]
Epoch:  7
Training finished.
Epoch: 7
Validation Loss:  102.67682147026062 %
Validation F1:  51.53249869355455 %
Validation Accuracy:  51.5 %
Validation Confusion Matrix:
[[163  26   4   7]
 [ 71 128   0   1]
 [125   0  55  20]
 [128   1   5  66]]
Epoch:  8
Training finished.
Epoch: 8
Validation Loss:  97.8481856584549 %
Validation F1:  56.61281184208885 %
Validation Accuracy:  57.49999999999999 %
Validation Confusion Matrix:
[[ 99  72  15  14]
 [ 13 184   1   2]
 [ 62  16  95  27]
 [ 79  15  24  82]]
Epoch:  9
Training finished.
Epoch: 9
Validation Loss:  91.85279250144958 %
Validation F1:  60.57060298839786 %
Validation Accuracy:  60.375 %
Validation Confusion Matrix:
[[121  42  15  22]
 [ 36 161   1   2]
 [ 57   6 105  32]
 [ 70   8  26  96]]
Epoch:  10
Training finished.
Epoch: 10
Validation Loss:  89.98924392461777 %
Validation F1:  59.343746408131636 %
Validation Accuracy:  60.5 %
Validation Confusion Matrix:
[[ 54  24  46  76]
 [ 30 146   7  17]
 [ 13   0 135  52]
 [ 14   2  35 149]]
Epoch:  11
Training finished.
Epoch: 11
Validation Loss:  103.51867300271988 %
Validation F1:  53.47531920956836 %
Validation Accuracy:  54.50000000000001 %
Validation Confusion Matrix:
[[ 58  12 125   5]
 [ 48 123  28   1]
 [  8   0 188   4]
 [ 32   0 101  67]]
Epoch:  12
Training finished.
Epoch: 12
Validation Loss:  86.2446004152298 %
Validation F1:  61.35056359735219 %
Validation Accuracy:  63.625 %
Validation Confusion Matrix:
[[ 47  28  69  56]
 [ 20 157   7  16]
 [  7   0 165  28]
 [ 12   2  46 140]]
Epoch:  13
Training finished.
Epoch: 13
Validation Loss:  109.41847342252731 %
Validation F1:  52.76080946195778 %
Validation Accuracy:  54.75 %
Validation Confusion Matrix:
[[ 40  10 111  39]
 [ 71  89  29  11]
 [  2   0 183  15]
 [  8   0  66 126]]
Epoch:  14
Training finished.
Epoch: 14
Validation Loss:  79.7759125828743 %
Validation F1:  66.09837225568744 %
Validation Accuracy:  66.75 %
Validation Confusion Matrix:
[[ 80  27  45  48]
 [ 29 157   5   9]
 [ 13   0 155  32]
 [ 23   2  33 142]]
Epoch:  15
Training finished.
Epoch: 15
Validation Loss:  78.9086446762085 %
Validation F1:  65.24100252614934 %
Validation Accuracy:  66.25 %
Validation Confusion Matrix:
[[ 73  28  43  56]
 [ 22 164   5   9]
 [ 11   0 148  41]
 [ 16   8  31 145]]
Epoch:  16
Training finished.
Epoch: 16
Validation Loss:  85.1251420378685 %
Validation F1:  64.00817943024568 %
Validation Accuracy:  64.0 %
Validation Confusion Matrix:
[[ 87   9  72  32]
 [ 59 126   7   8]
 [ 12   0 169  19]
 [ 24   0  46 130]]
Epoch:  17
Training finished.
Epoch: 17
Validation Loss:  79.07086539268494 %
Validation F1:  69.83049781545392 %
Validation Accuracy:  70.625 %
Validation Confusion Matrix:
[[106  55  11  28]
 [  3 197   0   0]
 [ 34   3 131  32]
 [ 31  16  22 131]]
Epoch:  18
Training finished.
Epoch: 18
Validation Loss:  86.59766411781311 %
Validation F1:  65.99954315523178 %
Validation Accuracy:  66.625 %
Validation Confusion Matrix:
[[126  59   8   7]
 [  3 196   0   1]
 [ 67   6 106  21]
 [ 59  20  16 105]]
Epoch:  19
Training finished.
Epoch: 19
Validation Loss:  80.46353763341904 %
Validation F1:  65.78990577244082 %
Validation Accuracy:  65.875 %
Validation Confusion Matrix:
[[ 84   8  37  71]
 [ 42 136   5  17]
 [  8   0 150  42]
 [ 18   1  24 157]]
Epoch:  20
Training finished.
Epoch: 20
Validation Loss:  73.52957224845886 %
Validation F1:  69.90318094639014 %
Validation Accuracy:  70.875 %
Validation Confusion Matrix:
[[ 94  43  19  44]
 [  3 194   1   2]
 [ 24   0 141  35]
 [ 23  13  26 138]]
Epoch:  21
Training finished.
Epoch: 21
Validation Loss:  140.22405970096588 %
Validation F1:  46.97861126662714 %
Validation Accuracy:  48.875 %
Validation Confusion Matrix:
[[ 67   0 126   7]
 [118  51  28   3]
 [  5   0 193   2]
 [ 29   0  91  80]]
Epoch:  22
Training finished.
Epoch: 22
Validation Loss:  84.80775582790375 %
Validation F1:  64.82010380926693 %
Validation Accuracy:  64.875 %
Validation Confusion Matrix:
[[ 87   7  48  58]
 [ 50 126   6  18]
 [ 10   0 156  34]
 [ 22   0  28 150]]
Epoch:  23
Training finished.
Epoch: 23
Validation Loss:  67.4415220618248 %
Validation F1:  75.34715971867953 %
Validation Accuracy:  75.25 %
Validation Confusion Matrix:
[[149  15  19  17]
 [ 17 180   2   1]
 [ 36   0 145  19]
 [ 42   6  24 128]]
Epoch:  24
Training finished.
Epoch: 24
Validation Loss:  75.34828507900238 %
Validation F1:  69.03662549312384 %
Validation Accuracy:  69.5 %
Validation Confusion Matrix:
[[ 83  17  17  83]
 [  6 180   0  14]
 [ 13   0 121  66]
 [ 14   4  10 172]]
Epoch:  25
Training finished.
Epoch: 25
Validation Loss:  66.18566769361496 %
Validation F1:  74.56149968300302 %
Validation Accuracy:  74.625 %
Validation Confusion Matrix:
[[119  17  17  47]
 [ 12 183   0   5]
 [ 21   0 143  36]
 [ 24   4  20 152]]
Epoch:  26
Training finished.
Epoch: 26
Validation Loss:  66.86123606562614 %
Validation F1:  72.92731772049575 %
Validation Accuracy:  73.0 %
Validation Confusion Matrix:
[[112  10  50  28]
 [ 23 170   2   5]
 [ 16   0 170  14]
 [ 32   2  34 132]]
Epoch:  27
Training finished.
Epoch: 27
Validation Loss:  66.57716271281242 %
Validation F1:  73.56723870164228 %
Validation Accuracy:  74.25 %
Validation Confusion Matrix:
[[105  23  44  28]
 [  7 190   2   1]
 [ 20   0 166  14]
 [ 25   8  34 133]]
Epoch:  28
Training finished.
Epoch: 28
Validation Loss:  64.06499862670898 %
Validation F1:  75.66912854784856 %
Validation Accuracy:  75.5 %
Validation Confusion Matrix:
[[147  11  26  16]
 [ 19 180   0   1]
 [ 33   0 152  15]
 [ 45   3  27 125]]
Epoch:  29
Training finished.
Epoch: 29
Validation Loss:  69.45439463853836 %
Validation F1:  72.2406822725294 %
Validation Accuracy:  73.0 %
Validation Confusion Matrix:
[[ 96  28  18  58]
 [  2 192   0   6]
 [ 20   1 134  45]
 [ 15  11  12 162]]
Epoch:  30
Training finished.
Epoch: 30
Validation Loss:  63.375141620635986 %
Validation F1:  77.61510390415496 %
Validation Accuracy:  77.5 %
Validation Confusion Matrix:
[[149  11  11  29]
 [  8 187   0   5]
 [ 36   0 140  24]
 [ 37   5  14 144]]
Best Model Performance on Test Set:
Test Loss:  71.98457162648569 %
Test F1:  73.6421053949873 %
Test Accuracy:  72.60174418604652 %
Test Confusion Matrix:
[[220  13  28  63]
 [ 13 275   2   7]
 [ 62   2 265  27]
 [120   9  31 239]]

Best F1 macro average score:  0.736421053949873 % achieved after  30  epochs.
Optimizer	Accuracy	F1
<class 'torch.optim.adadelta.Adadelta'>	0.6395		0.6428
<class 'torch.optim.adagrad.Adagrad'>	0.7391		0.7433
<class 'torch.optim.adam.Adam'>	0.7028		0.7090
<class 'torch.optim.adamw.AdamW'>	0.2355		0.0953
<class 'torch.optim.adamax.Adamax'>	0.7355		0.7364
<class 'torch.optim.asgd.ASGD'>	0.7289		0.7312
<class 'torch.optim.nadam.NAdam'>	0.6897		0.6899
<class 'torch.optim.radam.RAdam'>	0.7108		0.7084
<class 'torch.optim.rmsprop.RMSprop'>	0.6969		0.6965
<class 'torch.optim.rprop.Rprop'>	0.6904		0.6896
<class 'torch.optim.sgd.SGD'>	0.7260		0.7364
Best Accuracy:
Optimizer: <class 'torch.optim.adagrad.Adagrad'>
Accuracy: 0.7391

Best F1 Score:
Optimizer: <class 'torch.optim.adagrad.Adagrad'>
F1 Score: 0.7433
